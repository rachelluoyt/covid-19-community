{
 "cells": [
  {
   "cell_type": "markdown",
   "metadata": {},
   "source": [
    "# Downloads PANGO Lineages\n",
    "**[Work in progress]**\n",
    "\n",
    "This notebook downloads the current PANGO lineages and build a tree structure of the lineages.\n",
    "\n",
    "Data sources: [PANGO Lineage Designations](https://github.com/cov-lineages/pango-designation)\n",
    "\n",
    "Reference:\n",
    "Rambaut A, et al., A dynamic nomenclature proposal for SARS-CoV-2 lineages to assist genomic epidemiology(2020) Nature Microbiology [doi:10.1038/s41564-020-0770-5](https://doi.org/10.1038/s41564-020-0770-5).\n",
    "\n",
    "Author: Peter Rose (pwrose@ucsd.edu)"
   ]
  },
  {
   "cell_type": "code",
   "execution_count": 1,
   "metadata": {},
   "outputs": [],
   "source": [
    "import os\n",
    "import numpy as np\n",
    "import pandas as pd\n",
    "import io\n",
    "import dateutil\n",
    "import re\n",
    "from pathlib import Path"
   ]
  },
  {
   "cell_type": "code",
   "execution_count": 2,
   "metadata": {},
   "outputs": [],
   "source": [
    "pd.options.display.max_rows = None  # display all rows\n",
    "pd.options.display.max_columns = None  # display all columsns"
   ]
  },
  {
   "cell_type": "code",
   "execution_count": 3,
   "metadata": {},
   "outputs": [
    {
     "name": "stdout",
     "output_type": "stream",
     "text": [
      "/Users/lyt/Library/Application Support/Neo4j Desktop/Application/relate-data/dbmss/dbms-a1516f46-b63a-46dd-b67a-1fb59d6c5d05/import\n"
     ]
    }
   ],
   "source": [
    "NEO4J_IMPORT = \"/Users/lyt/Library/Application Support/Neo4j Desktop/Application/relate-data/dbmss/dbms-a1516f46-b63a-46dd-b67a-1fb59d6c5d05/import\"#Path(os.getenv('NEO4J_IMPORT'))\n",
    "print(NEO4J_IMPORT)"
   ]
  },
  {
   "cell_type": "markdown",
   "metadata": {},
   "source": [
    "## Get PANGO lineages"
   ]
  },
  {
   "cell_type": "code",
   "execution_count": 4,
   "metadata": {},
   "outputs": [],
   "source": [
    "pango_url = 'https://raw.githubusercontent.com/cov-lineages/pango-designation/master/lineage_notes.txt'"
   ]
  },
  {
   "cell_type": "code",
   "execution_count": 5,
   "metadata": {},
   "outputs": [],
   "source": [
    "pango = pd.read_csv(pango_url, sep='\\t', skiprows=1, dtype=str, names=['lineage', 'description'])"
   ]
  },
  {
   "cell_type": "markdown",
   "metadata": {},
   "source": [
    "Remove spaces in lineage column"
   ]
  },
  {
   "cell_type": "code",
   "execution_count": 6,
   "metadata": {},
   "outputs": [],
   "source": [
    "pango['lineage'] = pango['lineage'].str.strip()"
   ]
  },
  {
   "cell_type": "code",
   "execution_count": 7,
   "metadata": {},
   "outputs": [],
   "source": [
    "pango['lineage'] = pango['lineage'].str.strip('*') # include obsolete"
   ]
  },
  {
   "cell_type": "markdown",
   "metadata": {},
   "source": [
    "Remove withdrawn lineages (start with a \"*\")"
   ]
  },
  {
   "cell_type": "code",
   "execution_count": 10,
   "metadata": {},
   "outputs": [],
   "source": [
    "#pango = pango[~pango['lineage'].str.startswith('*')]"
   ]
  },
  {
   "cell_type": "markdown",
   "metadata": {},
   "source": [
    "### Extract alias from description"
   ]
  },
  {
   "cell_type": "code",
   "execution_count": 8,
   "metadata": {},
   "outputs": [],
   "source": [
    "pattern = re.compile('Alias of ([\\S]*?),', re.IGNORECASE)"
   ]
  },
  {
   "cell_type": "code",
   "execution_count": 9,
   "metadata": {},
   "outputs": [],
   "source": [
    "def get_alias(row):\n",
    "    match = pattern.findall(str(row.description))\n",
    "    if len(match) > 0:\n",
    "        return match[0]\n",
    "    else:\n",
    "        return ''"
   ]
  },
  {
   "cell_type": "code",
   "execution_count": 10,
   "metadata": {},
   "outputs": [],
   "source": [
    "pango['alias'] = pango.apply(get_alias, axis=1)"
   ]
  },
  {
   "cell_type": "code",
   "execution_count": 11,
   "metadata": {},
   "outputs": [],
   "source": [
    "pango['predecessor'] = pango['lineage'].str.rsplit('.', 1, expand=True)[0]"
   ]
  },
  {
   "cell_type": "code",
   "execution_count": 12,
   "metadata": {},
   "outputs": [
    {
     "data": {
      "text/html": [
       "<div>\n",
       "<style scoped>\n",
       "    .dataframe tbody tr th:only-of-type {\n",
       "        vertical-align: middle;\n",
       "    }\n",
       "\n",
       "    .dataframe tbody tr th {\n",
       "        vertical-align: top;\n",
       "    }\n",
       "\n",
       "    .dataframe thead th {\n",
       "        text-align: right;\n",
       "    }\n",
       "</style>\n",
       "<table border=\"1\" class=\"dataframe\">\n",
       "  <thead>\n",
       "    <tr style=\"text-align: right;\">\n",
       "      <th></th>\n",
       "      <th>lineage</th>\n",
       "      <th>description</th>\n",
       "      <th>alias</th>\n",
       "      <th>predecessor</th>\n",
       "    </tr>\n",
       "  </thead>\n",
       "  <tbody>\n",
       "    <tr>\n",
       "      <th>1519</th>\n",
       "      <td>B.1.487</td>\n",
       "      <td>USA - TX</td>\n",
       "      <td></td>\n",
       "      <td>B.1</td>\n",
       "    </tr>\n",
       "    <tr>\n",
       "      <th>593</th>\n",
       "      <td>B.1.1.528</td>\n",
       "      <td>South Africa lineage, from pango-designation i...</td>\n",
       "      <td></td>\n",
       "      <td>B.1.1</td>\n",
       "    </tr>\n",
       "    <tr>\n",
       "      <th>2047</th>\n",
       "      <td>A.8</td>\n",
       "      <td>Withdrawn: Indian lineage merged with A.9</td>\n",
       "      <td></td>\n",
       "      <td>A</td>\n",
       "    </tr>\n",
       "    <tr>\n",
       "      <th>1039</th>\n",
       "      <td>B.1.83</td>\n",
       "      <td>Belgian lineage</td>\n",
       "      <td></td>\n",
       "      <td>B.1</td>\n",
       "    </tr>\n",
       "    <tr>\n",
       "      <th>2185</th>\n",
       "      <td>B.1.107</td>\n",
       "      <td>Withdrawn: Reassigned in the current tree. Dan...</td>\n",
       "      <td></td>\n",
       "      <td>B.1</td>\n",
       "    </tr>\n",
       "  </tbody>\n",
       "</table>\n",
       "</div>"
      ],
      "text/plain": [
       "        lineage                                        description alias  \\\n",
       "1519    B.1.487                                           USA - TX         \n",
       "593   B.1.1.528  South Africa lineage, from pango-designation i...         \n",
       "2047        A.8          Withdrawn: Indian lineage merged with A.9         \n",
       "1039     B.1.83                                    Belgian lineage         \n",
       "2185    B.1.107  Withdrawn: Reassigned in the current tree. Dan...         \n",
       "\n",
       "     predecessor  \n",
       "1519         B.1  \n",
       "593        B.1.1  \n",
       "2047           A  \n",
       "1039         B.1  \n",
       "2185         B.1  "
      ]
     },
     "execution_count": 12,
     "metadata": {},
     "output_type": "execute_result"
    }
   ],
   "source": [
    "pango.sample(5)"
   ]
  },
  {
   "cell_type": "markdown",
   "metadata": {},
   "source": [
    "### Modify pango df for knowledge graph"
   ]
  },
  {
   "cell_type": "code",
   "execution_count": 17,
   "metadata": {},
   "outputs": [
    {
     "data": {
      "text/html": [
       "<div>\n",
       "<style scoped>\n",
       "    .dataframe tbody tr th:only-of-type {\n",
       "        vertical-align: middle;\n",
       "    }\n",
       "\n",
       "    .dataframe tbody tr th {\n",
       "        vertical-align: top;\n",
       "    }\n",
       "\n",
       "    .dataframe thead th {\n",
       "        text-align: right;\n",
       "    }\n",
       "</style>\n",
       "<table border=\"1\" class=\"dataframe\">\n",
       "  <thead>\n",
       "    <tr style=\"text-align: right;\">\n",
       "      <th></th>\n",
       "      <th>lineage</th>\n",
       "      <th>description</th>\n",
       "      <th>alias</th>\n",
       "      <th>predecessor</th>\n",
       "      <th>id</th>\n",
       "      <th>synonyms</th>\n",
       "    </tr>\n",
       "  </thead>\n",
       "  <tbody>\n",
       "    <tr>\n",
       "      <th>0</th>\n",
       "      <td>A</td>\n",
       "      <td>One of the two original haplotypes of the pand...</td>\n",
       "      <td></td>\n",
       "      <td>A</td>\n",
       "      <td>A</td>\n",
       "      <td></td>\n",
       "    </tr>\n",
       "    <tr>\n",
       "      <th>1</th>\n",
       "      <td>A.1</td>\n",
       "      <td>USA lineage</td>\n",
       "      <td></td>\n",
       "      <td>A</td>\n",
       "      <td>A.1</td>\n",
       "      <td></td>\n",
       "    </tr>\n",
       "    <tr>\n",
       "      <th>2</th>\n",
       "      <td>A.2</td>\n",
       "      <td>Mostly Spanish lineage now includes South and ...</td>\n",
       "      <td></td>\n",
       "      <td>A</td>\n",
       "      <td>A.2</td>\n",
       "      <td></td>\n",
       "    </tr>\n",
       "    <tr>\n",
       "      <th>3</th>\n",
       "      <td>A.2.2</td>\n",
       "      <td>Australian lineage</td>\n",
       "      <td></td>\n",
       "      <td>A.2</td>\n",
       "      <td>A.2.2</td>\n",
       "      <td></td>\n",
       "    </tr>\n",
       "    <tr>\n",
       "      <th>4</th>\n",
       "      <td>A.2.3</td>\n",
       "      <td>Scottish lineage</td>\n",
       "      <td></td>\n",
       "      <td>A.2</td>\n",
       "      <td>A.2.3</td>\n",
       "      <td></td>\n",
       "    </tr>\n",
       "  </tbody>\n",
       "</table>\n",
       "</div>"
      ],
      "text/plain": [
       "  lineage                                        description alias  \\\n",
       "0       A  One of the two original haplotypes of the pand...         \n",
       "1     A.1                                        USA lineage         \n",
       "2     A.2  Mostly Spanish lineage now includes South and ...         \n",
       "3   A.2.2                                 Australian lineage         \n",
       "4   A.2.3                                   Scottish lineage         \n",
       "\n",
       "  predecessor     id synonyms  \n",
       "0           A      A           \n",
       "1           A    A.1           \n",
       "2           A    A.2           \n",
       "3         A.2  A.2.2           \n",
       "4         A.2  A.2.3           "
      ]
     },
     "execution_count": 17,
     "metadata": {},
     "output_type": "execute_result"
    }
   ],
   "source": [
    "pango['id'] = pango.lineage # add id column\n",
    "\n",
    "# add synonyms\n",
    "pango['synonyms'] = ''\n",
    "pango.loc[pango.id == 'B.1.1.7', 'synonyms'] = \"Alpha\"\n",
    "pango.loc[pango.id == 'B.1.351', 'synonyms'] = \"Beta\"\n",
    "pango.loc[pango.id == 'P.1', 'synonyms'] = \"Gamma\"\n",
    "pango.loc[pango.id == 'B.1.617.2', 'synonyms'] = \"Delta\"\n",
    "pango.loc[pango.id == 'B.1.1.529', 'synonyms'] = \"Omicron\"\n",
    "pango.loc[(pango.id == 'BA.1') | (pango.id == 'BA.2')|\\\n",
    "          (pango.id == 'BA.3') | (pango.id == 'BA.4')|\\\n",
    "         (pango.id == 'BA.5'), 'synonyms'] = \"Omicron subvariant\""
   ]
  },
  {
   "cell_type": "code",
   "execution_count": 21,
   "metadata": {},
   "outputs": [],
   "source": [
    "pango['name'] = pango.id"
   ]
  },
  {
   "cell_type": "code",
   "execution_count": 24,
   "metadata": {},
   "outputs": [],
   "source": [
    "df = pango[['id','name','synonyms','description']]\n",
    "df.to_csv('Lineage.csv',index=False)"
   ]
  },
  {
   "cell_type": "code",
   "execution_count": 14,
   "metadata": {},
   "outputs": [],
   "source": [
    "lin_is_lin = pango[['id','predecessor']]\n",
    "lin_is_lin.columns = ['from','to']"
   ]
  },
  {
   "cell_type": "code",
   "execution_count": 15,
   "metadata": {},
   "outputs": [
    {
     "data": {
      "text/html": [
       "<div>\n",
       "<style scoped>\n",
       "    .dataframe tbody tr th:only-of-type {\n",
       "        vertical-align: middle;\n",
       "    }\n",
       "\n",
       "    .dataframe tbody tr th {\n",
       "        vertical-align: top;\n",
       "    }\n",
       "\n",
       "    .dataframe thead th {\n",
       "        text-align: right;\n",
       "    }\n",
       "</style>\n",
       "<table border=\"1\" class=\"dataframe\">\n",
       "  <thead>\n",
       "    <tr style=\"text-align: right;\">\n",
       "      <th></th>\n",
       "      <th>from</th>\n",
       "      <th>to</th>\n",
       "    </tr>\n",
       "  </thead>\n",
       "  <tbody>\n",
       "    <tr>\n",
       "      <th>722</th>\n",
       "      <td>BA.2.25</td>\n",
       "      <td>BA.2</td>\n",
       "    </tr>\n",
       "    <tr>\n",
       "      <th>1562</th>\n",
       "      <td>B.1.532</td>\n",
       "      <td>B.1</td>\n",
       "    </tr>\n",
       "    <tr>\n",
       "      <th>1630</th>\n",
       "      <td>B.1.595.4</td>\n",
       "      <td>B.1.595</td>\n",
       "    </tr>\n",
       "    <tr>\n",
       "      <th>2044</th>\n",
       "      <td>XBB</td>\n",
       "      <td>XBB</td>\n",
       "    </tr>\n",
       "  </tbody>\n",
       "</table>\n",
       "</div>"
      ],
      "text/plain": [
       "           from       to\n",
       "722     BA.2.25     BA.2\n",
       "1562    B.1.532      B.1\n",
       "1630  B.1.595.4  B.1.595\n",
       "2044        XBB      XBB"
      ]
     },
     "execution_count": 15,
     "metadata": {},
     "output_type": "execute_result"
    }
   ],
   "source": [
    "lin_is_lin.sample(4)"
   ]
  },
  {
   "cell_type": "code",
   "execution_count": 16,
   "metadata": {},
   "outputs": [],
   "source": [
    "lin_is_lin.to_csv('Lineage-IS_A-Lineage.csv',index=False)"
   ]
  },
  {
   "cell_type": "markdown",
   "metadata": {},
   "source": [
    "### Split into sublineages"
   ]
  },
  {
   "cell_type": "code",
   "execution_count": 58,
   "metadata": {},
   "outputs": [],
   "source": [
    "def split_lineage(row):\n",
    "    lineage = row['name']\n",
    "    lineages =  np.empty(4, dtype=object)\n",
    "\n",
    "    for i in range(lineages.size):\n",
    "        lineages[i] = lineage\n",
    "        lineage = lineage.rpartition('.')[0]\n",
    "\n",
    "    return lineages"
   ]
  },
  {
   "cell_type": "code",
   "execution_count": 59,
   "metadata": {},
   "outputs": [],
   "source": [
    "pango[['l0', 'l1', 'l2', 'l3']] = pango.apply(split_lineage, axis=1, result_type='expand')\n",
    "pango['levels'] = pango['name'].str.count('\\.') + 1"
   ]
  },
  {
   "cell_type": "code",
   "execution_count": 60,
   "metadata": {},
   "outputs": [
    {
     "data": {
      "text/html": [
       "<div>\n",
       "<style scoped>\n",
       "    .dataframe tbody tr th:only-of-type {\n",
       "        vertical-align: middle;\n",
       "    }\n",
       "\n",
       "    .dataframe tbody tr th {\n",
       "        vertical-align: top;\n",
       "    }\n",
       "\n",
       "    .dataframe thead th {\n",
       "        text-align: right;\n",
       "    }\n",
       "</style>\n",
       "<table border=\"1\" class=\"dataframe\">\n",
       "  <thead>\n",
       "    <tr style=\"text-align: right;\">\n",
       "      <th></th>\n",
       "      <th>id</th>\n",
       "      <th>name</th>\n",
       "      <th>synonyms</th>\n",
       "      <th>description</th>\n",
       "      <th>alias</th>\n",
       "      <th>predecessor</th>\n",
       "      <th>l0</th>\n",
       "      <th>l1</th>\n",
       "      <th>l2</th>\n",
       "      <th>l3</th>\n",
       "      <th>levels</th>\n",
       "    </tr>\n",
       "  </thead>\n",
       "  <tbody>\n",
       "    <tr>\n",
       "      <th>695</th>\n",
       "      <td>BG.3</td>\n",
       "      <td>BG.3</td>\n",
       "      <td></td>\n",
       "      <td>Alias of B.1.1.529.2.12.1.3, mainly found in P...</td>\n",
       "      <td>B.1.1.529.2.12.1.3</td>\n",
       "      <td>B.1.1.529.2.12.1</td>\n",
       "      <td>BG.3</td>\n",
       "      <td>BG</td>\n",
       "      <td></td>\n",
       "      <td></td>\n",
       "      <td>2</td>\n",
       "    </tr>\n",
       "    <tr>\n",
       "      <th>713</th>\n",
       "      <td>BA.2.25</td>\n",
       "      <td>BA.2.25</td>\n",
       "      <td></td>\n",
       "      <td>Alias of B.1.1.529.2.25, Sweden lineage</td>\n",
       "      <td>B.1.1.529.2.25</td>\n",
       "      <td>B.1.1.529.2</td>\n",
       "      <td>BA.2.25</td>\n",
       "      <td>BA.2</td>\n",
       "      <td>BA</td>\n",
       "      <td></td>\n",
       "      <td>3</td>\n",
       "    </tr>\n",
       "    <tr>\n",
       "      <th>1452</th>\n",
       "      <td>B.1.567</td>\n",
       "      <td>B.1.567</td>\n",
       "      <td></td>\n",
       "      <td>USA lineage, formally part of B.1.2</td>\n",
       "      <td></td>\n",
       "      <td></td>\n",
       "      <td>B.1.567</td>\n",
       "      <td>B.1</td>\n",
       "      <td>B</td>\n",
       "      <td></td>\n",
       "      <td>3</td>\n",
       "    </tr>\n",
       "    <tr>\n",
       "      <th>1443</th>\n",
       "      <td>B.1.559</td>\n",
       "      <td>B.1.559</td>\n",
       "      <td></td>\n",
       "      <td>Scotland</td>\n",
       "      <td></td>\n",
       "      <td></td>\n",
       "      <td>B.1.559</td>\n",
       "      <td>B.1</td>\n",
       "      <td>B</td>\n",
       "      <td></td>\n",
       "      <td>3</td>\n",
       "    </tr>\n",
       "    <tr>\n",
       "      <th>196</th>\n",
       "      <td>B.1.1.82</td>\n",
       "      <td>B.1.1.82</td>\n",
       "      <td></td>\n",
       "      <td>Wales lineage</td>\n",
       "      <td></td>\n",
       "      <td></td>\n",
       "      <td>B.1.1.82</td>\n",
       "      <td>B.1.1</td>\n",
       "      <td>B.1</td>\n",
       "      <td>B</td>\n",
       "      <td>4</td>\n",
       "    </tr>\n",
       "  </tbody>\n",
       "</table>\n",
       "</div>"
      ],
      "text/plain": [
       "            id      name synonyms  \\\n",
       "695       BG.3      BG.3            \n",
       "713    BA.2.25   BA.2.25            \n",
       "1452   B.1.567   B.1.567            \n",
       "1443   B.1.559   B.1.559            \n",
       "196   B.1.1.82  B.1.1.82            \n",
       "\n",
       "                                            description               alias  \\\n",
       "695   Alias of B.1.1.529.2.12.1.3, mainly found in P...  B.1.1.529.2.12.1.3   \n",
       "713             Alias of B.1.1.529.2.25, Sweden lineage      B.1.1.529.2.25   \n",
       "1452                USA lineage, formally part of B.1.2                       \n",
       "1443                                           Scotland                       \n",
       "196                                       Wales lineage                       \n",
       "\n",
       "           predecessor        l0     l1   l2 l3  levels  \n",
       "695   B.1.1.529.2.12.1      BG.3     BG               2  \n",
       "713        B.1.1.529.2   BA.2.25   BA.2   BA          3  \n",
       "1452                     B.1.567    B.1    B          3  \n",
       "1443                     B.1.559    B.1    B          3  \n",
       "196                     B.1.1.82  B.1.1  B.1  B       4  "
      ]
     },
     "execution_count": 60,
     "metadata": {},
     "output_type": "execute_result"
    }
   ],
   "source": [
    "pango.sample(5)"
   ]
  },
  {
   "cell_type": "code",
   "execution_count": 33,
   "metadata": {},
   "outputs": [],
   "source": [
    "pango.to_csv(NEO4J_IMPORT +  \"/00b-PANGOLineage.csv\", index=False)"
   ]
  },
  {
   "cell_type": "code",
   "execution_count": null,
   "metadata": {},
   "outputs": [],
   "source": []
  },
  {
   "cell_type": "code",
   "execution_count": null,
   "metadata": {},
   "outputs": [],
   "source": []
  }
 ],
 "metadata": {
  "kernelspec": {
   "display_name": "Python 3",
   "language": "python",
   "name": "python3"
  },
  "language_info": {
   "codemirror_mode": {
    "name": "ipython",
    "version": 3
   },
   "file_extension": ".py",
   "mimetype": "text/x-python",
   "name": "python",
   "nbconvert_exporter": "python",
   "pygments_lexer": "ipython3",
   "version": "3.7.6"
  }
 },
 "nbformat": 4,
 "nbformat_minor": 4
}
