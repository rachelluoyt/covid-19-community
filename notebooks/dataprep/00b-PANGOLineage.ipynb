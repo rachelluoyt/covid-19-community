{
 "cells": [
  {
   "cell_type": "markdown",
   "metadata": {},
   "source": [
    "# Downloads PANGO Lineages\n",
    "**[Work in progress]**\n",
    "\n",
    "This notebook downloads the current PANGO lineages and build a tree structure of the lineages.\n",
    "\n",
    "Data sources: [PANGO Lineage Designations](https://github.com/cov-lineages/pango-designation)\n",
    "\n",
    "Reference:\n",
    "Rambaut A, et al., A dynamic nomenclature proposal for SARS-CoV-2 lineages to assist genomic epidemiology(2020) Nature Microbiology [doi:10.1038/s41564-020-0770-5](https://doi.org/10.1038/s41564-020-0770-5).\n",
    "\n",
    "Author: Peter Rose (pwrose@ucsd.edu)"
   ]
  },
  {
   "cell_type": "code",
   "execution_count": 4,
   "metadata": {},
   "outputs": [],
   "source": [
    "import os\n",
    "import numpy as np\n",
    "import pandas as pd\n",
    "import io\n",
    "import dateutil\n",
    "import re\n",
    "from pathlib import Path"
   ]
  },
  {
   "cell_type": "code",
   "execution_count": 5,
   "metadata": {},
   "outputs": [],
   "source": [
    "pd.options.display.max_rows = None  # display all rows\n",
    "pd.options.display.max_columns = None  # display all columsns"
   ]
  },
  {
   "cell_type": "code",
   "execution_count": 6,
   "metadata": {},
   "outputs": [
    {
     "name": "stdout",
     "output_type": "stream",
     "text": [
      "/Users/lyt/Library/Application Support/Neo4j Desktop/Application/relate-data/dbmss/dbms-a1516f46-b63a-46dd-b67a-1fb59d6c5d05/import\n"
     ]
    }
   ],
   "source": [
    "NEO4J_IMPORT = \"/Users/lyt/Library/Application Support/Neo4j Desktop/Application/relate-data/dbmss/dbms-a1516f46-b63a-46dd-b67a-1fb59d6c5d05/import\"#Path(os.getenv('NEO4J_IMPORT'))\n",
    "print(NEO4J_IMPORT)"
   ]
  },
  {
   "cell_type": "markdown",
   "metadata": {},
   "source": [
    "## Get PANGO lineages"
   ]
  },
  {
   "cell_type": "code",
   "execution_count": 7,
   "metadata": {},
   "outputs": [],
   "source": [
    "pango_url = 'https://raw.githubusercontent.com/cov-lineages/pango-designation/master/lineage_notes.txt'"
   ]
  },
  {
   "cell_type": "code",
   "execution_count": 8,
   "metadata": {},
   "outputs": [],
   "source": [
    "pango = pd.read_csv(pango_url, sep='\\t', skiprows=1, dtype=str, names=['lineage', 'description'])"
   ]
  },
  {
   "cell_type": "markdown",
   "metadata": {},
   "source": [
    "Remove spaces in lineage column"
   ]
  },
  {
   "cell_type": "code",
   "execution_count": 9,
   "metadata": {},
   "outputs": [],
   "source": [
    "pango['lineage'] = pango['lineage'].str.strip()"
   ]
  },
  {
   "cell_type": "code",
   "execution_count": 24,
   "metadata": {},
   "outputs": [],
   "source": [
    "pango['lineage'] = pango['lineage'].str.strip('*') # include obsolete"
   ]
  },
  {
   "cell_type": "markdown",
   "metadata": {},
   "source": [
    "Remove withdrawn lineages (start with a \"*\")"
   ]
  },
  {
   "cell_type": "code",
   "execution_count": 10,
   "metadata": {},
   "outputs": [],
   "source": [
    "#pango = pango[~pango['lineage'].str.startswith('*')]"
   ]
  },
  {
   "cell_type": "markdown",
   "metadata": {},
   "source": [
    "Extract alias from description"
   ]
  },
  {
   "cell_type": "code",
   "execution_count": 25,
   "metadata": {},
   "outputs": [],
   "source": [
    "pattern = re.compile('Alias of ([\\S]*?),', re.IGNORECASE)"
   ]
  },
  {
   "cell_type": "code",
   "execution_count": 26,
   "metadata": {},
   "outputs": [],
   "source": [
    "def get_alias(row):\n",
    "    match = pattern.findall(str(row.description))\n",
    "    if len(match) > 0:\n",
    "        return match[0]\n",
    "    else:\n",
    "        return ''"
   ]
  },
  {
   "cell_type": "code",
   "execution_count": 27,
   "metadata": {},
   "outputs": [],
   "source": [
    "pango['alias'] = pango.apply(get_alias, axis=1)"
   ]
  },
  {
   "cell_type": "code",
   "execution_count": 28,
   "metadata": {},
   "outputs": [],
   "source": [
    "pango['predecessor'] = pango['alias'].str.rsplit('.', 1, expand=True)[0]"
   ]
  },
  {
   "cell_type": "code",
   "execution_count": 29,
   "metadata": {},
   "outputs": [
    {
     "data": {
      "text/html": [
       "<div>\n",
       "<style scoped>\n",
       "    .dataframe tbody tr th:only-of-type {\n",
       "        vertical-align: middle;\n",
       "    }\n",
       "\n",
       "    .dataframe tbody tr th {\n",
       "        vertical-align: top;\n",
       "    }\n",
       "\n",
       "    .dataframe thead th {\n",
       "        text-align: right;\n",
       "    }\n",
       "</style>\n",
       "<table border=\"1\" class=\"dataframe\">\n",
       "  <thead>\n",
       "    <tr style=\"text-align: right;\">\n",
       "      <th></th>\n",
       "      <th>lineage</th>\n",
       "      <th>description</th>\n",
       "      <th>alias</th>\n",
       "      <th>predecessor</th>\n",
       "      <th>l0</th>\n",
       "      <th>l1</th>\n",
       "      <th>l2</th>\n",
       "      <th>l3</th>\n",
       "      <th>levels</th>\n",
       "    </tr>\n",
       "  </thead>\n",
       "  <tbody>\n",
       "    <tr>\n",
       "      <th>2013</th>\n",
       "      <td>E.1</td>\n",
       "      <td>Withdrawn: Reassigned B.1.416.1. French lineag...</td>\n",
       "      <td></td>\n",
       "      <td></td>\n",
       "      <td>*E.1</td>\n",
       "      <td>*E</td>\n",
       "      <td></td>\n",
       "      <td></td>\n",
       "      <td>2</td>\n",
       "    </tr>\n",
       "    <tr>\n",
       "      <th>2014</th>\n",
       "      <td>F.1</td>\n",
       "      <td>Withdrawn: Alias of B.1.36.17.1, New Zealand l...</td>\n",
       "      <td>B.1.36.17.1</td>\n",
       "      <td>B.1.36.17</td>\n",
       "      <td>*F.1</td>\n",
       "      <td>*F</td>\n",
       "      <td></td>\n",
       "      <td></td>\n",
       "      <td>2</td>\n",
       "    </tr>\n",
       "    <tr>\n",
       "      <th>2015</th>\n",
       "      <td>H.1</td>\n",
       "      <td>Withdrawn: Alias of B.1.1.67.1, South African ...</td>\n",
       "      <td>B.1.1.67.1</td>\n",
       "      <td>B.1.1.67</td>\n",
       "      <td>*H.1</td>\n",
       "      <td>*H</td>\n",
       "      <td></td>\n",
       "      <td></td>\n",
       "      <td>2</td>\n",
       "    </tr>\n",
       "    <tr>\n",
       "      <th>2016</th>\n",
       "      <td>I.1</td>\n",
       "      <td>Withdrawn: Alias of B.1.1.217.1, Latvian linea...</td>\n",
       "      <td>B.1.1.217.1</td>\n",
       "      <td>B.1.1.217</td>\n",
       "      <td>*I.1</td>\n",
       "      <td>*I</td>\n",
       "      <td></td>\n",
       "      <td></td>\n",
       "      <td>2</td>\n",
       "    </tr>\n",
       "    <tr>\n",
       "      <th>2017</th>\n",
       "      <td>J.1</td>\n",
       "      <td>Withdrawn: Alias of B.1.1.250.1, Australian li...</td>\n",
       "      <td>B.1.1.250.1</td>\n",
       "      <td>B.1.1.250</td>\n",
       "      <td>*J.1</td>\n",
       "      <td>*J</td>\n",
       "      <td></td>\n",
       "      <td></td>\n",
       "      <td>2</td>\n",
       "    </tr>\n",
       "  </tbody>\n",
       "</table>\n",
       "</div>"
      ],
      "text/plain": [
       "     lineage                                        description        alias  \\\n",
       "2013     E.1  Withdrawn: Reassigned B.1.416.1. French lineag...                \n",
       "2014     F.1  Withdrawn: Alias of B.1.36.17.1, New Zealand l...  B.1.36.17.1   \n",
       "2015     H.1  Withdrawn: Alias of B.1.1.67.1, South African ...   B.1.1.67.1   \n",
       "2016     I.1  Withdrawn: Alias of B.1.1.217.1, Latvian linea...  B.1.1.217.1   \n",
       "2017     J.1  Withdrawn: Alias of B.1.1.250.1, Australian li...  B.1.1.250.1   \n",
       "\n",
       "     predecessor    l0  l1 l2 l3  levels  \n",
       "2013              *E.1  *E             2  \n",
       "2014   B.1.36.17  *F.1  *F             2  \n",
       "2015    B.1.1.67  *H.1  *H             2  \n",
       "2016   B.1.1.217  *I.1  *I             2  \n",
       "2017   B.1.1.250  *J.1  *J             2  "
      ]
     },
     "execution_count": 29,
     "metadata": {},
     "output_type": "execute_result"
    }
   ],
   "source": [
    "pango.tail(5)"
   ]
  },
  {
   "cell_type": "markdown",
   "metadata": {},
   "source": [
    "### Split into sublineages"
   ]
  },
  {
   "cell_type": "code",
   "execution_count": 30,
   "metadata": {},
   "outputs": [],
   "source": [
    "def split_lineage(row):\n",
    "    lineage = row['lineage']\n",
    "    lineages =  np.empty(4, dtype=object)\n",
    "\n",
    "    for i in range(lineages.size):\n",
    "        lineages[i] = lineage\n",
    "        lineage = lineage.rpartition('.')[0]\n",
    "\n",
    "    return lineages"
   ]
  },
  {
   "cell_type": "code",
   "execution_count": 31,
   "metadata": {},
   "outputs": [],
   "source": [
    "pango[['l0', 'l1', 'l2', 'l3']] = pango.apply(split_lineage, axis=1, result_type='expand')\n",
    "pango['levels'] = pango['lineage'].str.count('\\.') + 1"
   ]
  },
  {
   "cell_type": "code",
   "execution_count": 32,
   "metadata": {},
   "outputs": [
    {
     "data": {
      "text/html": [
       "<div>\n",
       "<style scoped>\n",
       "    .dataframe tbody tr th:only-of-type {\n",
       "        vertical-align: middle;\n",
       "    }\n",
       "\n",
       "    .dataframe tbody tr th {\n",
       "        vertical-align: top;\n",
       "    }\n",
       "\n",
       "    .dataframe thead th {\n",
       "        text-align: right;\n",
       "    }\n",
       "</style>\n",
       "<table border=\"1\" class=\"dataframe\">\n",
       "  <thead>\n",
       "    <tr style=\"text-align: right;\">\n",
       "      <th></th>\n",
       "      <th>lineage</th>\n",
       "      <th>description</th>\n",
       "      <th>alias</th>\n",
       "      <th>predecessor</th>\n",
       "      <th>l0</th>\n",
       "      <th>l1</th>\n",
       "      <th>l2</th>\n",
       "      <th>l3</th>\n",
       "      <th>levels</th>\n",
       "    </tr>\n",
       "  </thead>\n",
       "  <tbody>\n",
       "    <tr>\n",
       "      <th>1971</th>\n",
       "      <td>B.1.419</td>\n",
       "      <td>Withdrawn: Iceland lineage</td>\n",
       "      <td></td>\n",
       "      <td></td>\n",
       "      <td>B.1.419</td>\n",
       "      <td>B.1</td>\n",
       "      <td>B</td>\n",
       "      <td></td>\n",
       "      <td>3</td>\n",
       "    </tr>\n",
       "    <tr>\n",
       "      <th>1860</th>\n",
       "      <td>B.1.36.6</td>\n",
       "      <td>Withdrawn: Norway lineage</td>\n",
       "      <td></td>\n",
       "      <td></td>\n",
       "      <td>B.1.36.6</td>\n",
       "      <td>B.1.36</td>\n",
       "      <td>B.1</td>\n",
       "      <td>B</td>\n",
       "      <td>4</td>\n",
       "    </tr>\n",
       "    <tr>\n",
       "      <th>1345</th>\n",
       "      <td>B.1.588.1</td>\n",
       "      <td>Romanian lineage</td>\n",
       "      <td></td>\n",
       "      <td></td>\n",
       "      <td>B.1.588.1</td>\n",
       "      <td>B.1.588</td>\n",
       "      <td>B.1</td>\n",
       "      <td>B</td>\n",
       "      <td>4</td>\n",
       "    </tr>\n",
       "    <tr>\n",
       "      <th>1420</th>\n",
       "      <td>AY.7</td>\n",
       "      <td>Alias of B.1.617.2.7, UK lineage, from pango-d...</td>\n",
       "      <td>B.1.617.2.7</td>\n",
       "      <td>B.1.617.2</td>\n",
       "      <td>AY.7</td>\n",
       "      <td>AY</td>\n",
       "      <td></td>\n",
       "      <td></td>\n",
       "      <td>2</td>\n",
       "    </tr>\n",
       "    <tr>\n",
       "      <th>1838</th>\n",
       "      <td>B.1.5.26</td>\n",
       "      <td>Withdrawn: Reassigned B.1.232</td>\n",
       "      <td></td>\n",
       "      <td></td>\n",
       "      <td>B.1.5.26</td>\n",
       "      <td>B.1.5</td>\n",
       "      <td>B.1</td>\n",
       "      <td>B</td>\n",
       "      <td>4</td>\n",
       "    </tr>\n",
       "  </tbody>\n",
       "</table>\n",
       "</div>"
      ],
      "text/plain": [
       "        lineage                                        description  \\\n",
       "1971    B.1.419                         Withdrawn: Iceland lineage   \n",
       "1860   B.1.36.6                          Withdrawn: Norway lineage   \n",
       "1345  B.1.588.1                                   Romanian lineage   \n",
       "1420       AY.7  Alias of B.1.617.2.7, UK lineage, from pango-d...   \n",
       "1838   B.1.5.26                      Withdrawn: Reassigned B.1.232   \n",
       "\n",
       "            alias predecessor         l0       l1   l2 l3  levels  \n",
       "1971                             B.1.419      B.1    B          3  \n",
       "1860                            B.1.36.6   B.1.36  B.1  B       4  \n",
       "1345                           B.1.588.1  B.1.588  B.1  B       4  \n",
       "1420  B.1.617.2.7   B.1.617.2       AY.7       AY               2  \n",
       "1838                            B.1.5.26    B.1.5  B.1  B       4  "
      ]
     },
     "execution_count": 32,
     "metadata": {},
     "output_type": "execute_result"
    }
   ],
   "source": [
    "pango.sample(5)"
   ]
  },
  {
   "cell_type": "code",
   "execution_count": 33,
   "metadata": {},
   "outputs": [],
   "source": [
    "pango.to_csv(NEO4J_IMPORT +  \"/00b-PANGOLineage.csv\", index=False)"
   ]
  },
  {
   "cell_type": "code",
   "execution_count": null,
   "metadata": {},
   "outputs": [],
   "source": []
  },
  {
   "cell_type": "code",
   "execution_count": null,
   "metadata": {},
   "outputs": [],
   "source": []
  }
 ],
 "metadata": {
  "kernelspec": {
   "display_name": "Python 3 (ipykernel)",
   "language": "python",
   "name": "python3"
  },
  "language_info": {
   "codemirror_mode": {
    "name": "ipython",
    "version": 3
   },
   "file_extension": ".py",
   "mimetype": "text/x-python",
   "name": "python",
   "nbconvert_exporter": "python",
   "pygments_lexer": "ipython3",
   "version": "3.7.12"
  }
 },
 "nbformat": 4,
 "nbformat_minor": 4
}
