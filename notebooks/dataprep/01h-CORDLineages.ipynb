{
 "cells": [
  {
   "cell_type": "markdown",
   "metadata": {},
   "source": [
    "# Downloads Publication Information for PANGO Lineages from the CORD-19 Data Set\n",
    "**[Work in progress]**\n",
    "\n",
    "This notebook text-mines [PANGO lineage](https://cov-lineages.org/) mentions in the titles and abstracts of publications and preprints from the CORD-19 data set. Note, the text-mined results may contain false positive!\n",
    "\n",
    "Data sources: [PANGO Lineage Designations](https://github.com/cov-lineages/pango-designation), \n",
    "[CORD-19](https://allenai.org/data/cord-19)\n",
    "\n",
    "References:\n",
    "\n",
    "Rambaut A, et al., A dynamic nomenclature proposal for SARS-CoV-2 lineages to assist genomic epidemiology(2020) Nature Microbiology [doi:10.1038/s41564-020-0770-5](https://doi.org/10.1038/s41564-020-0770-5).\n",
    "\n",
    "Lucy Lu Wang, et al., CORD-19: The COVID-19 Open Research Dataset (2020) [arXiv:2004.10706v4](https://arxiv.org/abs/2004.10706).\n",
    "\n",
    "Author: Peter Rose (pwrose@ucsd.edu)"
   ]
  },
  {
   "cell_type": "code",
   "execution_count": 2,
   "metadata": {},
   "outputs": [],
   "source": [
    "import os\n",
    "import pandas as pd\n",
    "import io\n",
    "import dateutil\n",
    "import re\n",
    "from pathlib import Path\n",
    "import nltk\n",
    "import json, requests\n",
    "from urllib.request import urlopen\n",
    "from xml.etree.ElementTree import parse\n",
    "import urllib\n",
    "import time\n",
    "import numpy as np"
   ]
  },
  {
   "cell_type": "code",
   "execution_count": 3,
   "metadata": {},
   "outputs": [],
   "source": [
    "pd.options.display.max_rows = None  # display all rows\n",
    "pd.options.display.max_columns = None  # display all columsns"
   ]
  },
  {
   "cell_type": "code",
   "execution_count": 4,
   "metadata": {},
   "outputs": [
    {
     "name": "stdout",
     "output_type": "stream",
     "text": [
      "/Users/lyt/Library/Application Support/Neo4j Desktop/Application/relate-data/dbmss/dbms-a1516f46-b63a-46dd-b67a-1fb59d6c5d05/import\n"
     ]
    }
   ],
   "source": [
    "NEO4J_IMPORT = \"/Users/lyt/Library/Application Support/Neo4j Desktop/Application/relate-data/dbmss/dbms-a1516f46-b63a-46dd-b67a-1fb59d6c5d05/import\"#Path(os.getenv('NEO4J_IMPORT'))\n",
    "print(NEO4J_IMPORT)"
   ]
  },
  {
   "cell_type": "markdown",
   "metadata": {},
   "source": [
    "## Get PANGO lineages"
   ]
  },
  {
   "cell_type": "code",
   "execution_count": 5,
   "metadata": {},
   "outputs": [],
   "source": [
    "pango = pd.read_csv(NEO4J_IMPORT + \"/00b-PANGOLineage.csv\", dtype=str)"
   ]
  },
  {
   "cell_type": "code",
   "execution_count": 6,
   "metadata": {},
   "outputs": [
    {
     "data": {
      "text/html": [
       "<div>\n",
       "<style scoped>\n",
       "    .dataframe tbody tr th:only-of-type {\n",
       "        vertical-align: middle;\n",
       "    }\n",
       "\n",
       "    .dataframe tbody tr th {\n",
       "        vertical-align: top;\n",
       "    }\n",
       "\n",
       "    .dataframe thead th {\n",
       "        text-align: right;\n",
       "    }\n",
       "</style>\n",
       "<table border=\"1\" class=\"dataframe\">\n",
       "  <thead>\n",
       "    <tr style=\"text-align: right;\">\n",
       "      <th></th>\n",
       "      <th>lineage</th>\n",
       "      <th>description</th>\n",
       "      <th>alias</th>\n",
       "      <th>predecessor</th>\n",
       "      <th>l0</th>\n",
       "      <th>l1</th>\n",
       "      <th>l2</th>\n",
       "      <th>l3</th>\n",
       "      <th>levels</th>\n",
       "    </tr>\n",
       "  </thead>\n",
       "  <tbody>\n",
       "    <tr>\n",
       "      <th>928</th>\n",
       "      <td>B.1.177.62</td>\n",
       "      <td>Germany, Switzerland, Netherlands</td>\n",
       "      <td>NaN</td>\n",
       "      <td>NaN</td>\n",
       "      <td>B.1.177.62</td>\n",
       "      <td>B.1.177</td>\n",
       "      <td>B.1</td>\n",
       "      <td>B</td>\n",
       "      <td>4</td>\n",
       "    </tr>\n",
       "    <tr>\n",
       "      <th>47</th>\n",
       "      <td>C.7</td>\n",
       "      <td>Alias of B.1.1.1.7, Denmark</td>\n",
       "      <td>B.1.1.1.7</td>\n",
       "      <td>B.1.1.1</td>\n",
       "      <td>C.7</td>\n",
       "      <td>C</td>\n",
       "      <td>NaN</td>\n",
       "      <td>NaN</td>\n",
       "      <td>2</td>\n",
       "    </tr>\n",
       "    <tr>\n",
       "      <th>1877</th>\n",
       "      <td>B.1.107</td>\n",
       "      <td>Withdrawn: Reassigned in the current tree. Dan...</td>\n",
       "      <td>NaN</td>\n",
       "      <td>NaN</td>\n",
       "      <td>B.1.107</td>\n",
       "      <td>B.1</td>\n",
       "      <td>B</td>\n",
       "      <td>NaN</td>\n",
       "      <td>3</td>\n",
       "    </tr>\n",
       "    <tr>\n",
       "      <th>557</th>\n",
       "      <td>B.1.1.458</td>\n",
       "      <td>Swedish lineage</td>\n",
       "      <td>NaN</td>\n",
       "      <td>NaN</td>\n",
       "      <td>B.1.1.458</td>\n",
       "      <td>B.1.1</td>\n",
       "      <td>B.1</td>\n",
       "      <td>B</td>\n",
       "      <td>4</td>\n",
       "    </tr>\n",
       "    <tr>\n",
       "      <th>252</th>\n",
       "      <td>B.1.1.155</td>\n",
       "      <td>English</td>\n",
       "      <td>NaN</td>\n",
       "      <td>NaN</td>\n",
       "      <td>B.1.1.155</td>\n",
       "      <td>B.1.1</td>\n",
       "      <td>B.1</td>\n",
       "      <td>B</td>\n",
       "      <td>4</td>\n",
       "    </tr>\n",
       "  </tbody>\n",
       "</table>\n",
       "</div>"
      ],
      "text/plain": [
       "         lineage                                        description  \\\n",
       "928   B.1.177.62                  Germany, Switzerland, Netherlands   \n",
       "47           C.7                        Alias of B.1.1.1.7, Denmark   \n",
       "1877     B.1.107  Withdrawn: Reassigned in the current tree. Dan...   \n",
       "557    B.1.1.458                                    Swedish lineage   \n",
       "252    B.1.1.155                                            English   \n",
       "\n",
       "          alias predecessor          l0       l1   l2   l3 levels  \n",
       "928         NaN         NaN  B.1.177.62  B.1.177  B.1    B      4  \n",
       "47    B.1.1.1.7     B.1.1.1         C.7        C  NaN  NaN      2  \n",
       "1877        NaN         NaN     B.1.107      B.1    B  NaN      3  \n",
       "557         NaN         NaN   B.1.1.458    B.1.1  B.1    B      4  \n",
       "252         NaN         NaN   B.1.1.155    B.1.1  B.1    B      4  "
      ]
     },
     "execution_count": 6,
     "metadata": {},
     "output_type": "execute_result"
    }
   ],
   "source": [
    "pango.sample(5)"
   ]
  },
  {
   "cell_type": "code",
   "execution_count": 7,
   "metadata": {},
   "outputs": [],
   "source": [
    "lineages = pango['lineage'].unique()"
   ]
  },
  {
   "cell_type": "code",
   "execution_count": 8,
   "metadata": {},
   "outputs": [],
   "source": [
    "pattern1 = re.compile(' [A-Z]{1,2}[.]\\d+ ', re.IGNORECASE)\n",
    "pattern2 = re.compile(' [A-Z]{1,2}[.]\\d+[.]\\d+ ', re.IGNORECASE)\n",
    "pattern3 = re.compile(' [A-Z]{1,2}[.]\\d+[.]\\d+[.]+\\d+ ', re.IGNORECASE)\n",
    "\n",
    "# add WHO lineage\n",
    "who_lineage = [' Alpha ', ' Beta ', ' Gamma ', ' Epsilon ',' Zeta ', ' Eta ', ' Theta  ',\\\n",
    "               ' Iota ', ' Kappa ', ' Lambda ', ' Mu ']\n",
    "pattern4 = re.compile(\"|\".join(who_lineage), re.IGNORECASE)"
   ]
  },
  {
   "cell_type": "code",
   "execution_count": 9,
   "metadata": {},
   "outputs": [],
   "source": [
    "# add who to lineages\n",
    "lineages = np.append(lineages, who_lineage)"
   ]
  },
  {
   "cell_type": "code",
   "execution_count": 10,
   "metadata": {},
   "outputs": [],
   "source": [
    "# remove A B\n",
    "lineages = np.delete(lineages, np.where(lineages == 'A'))\n",
    "lineages = np.delete(lineages, np.where(lineages == 'B'))"
   ]
  },
  {
   "cell_type": "markdown",
   "metadata": {
    "jp-MarkdownHeadingCollapsed": true,
    "tags": []
   },
   "source": [
    "## Get CORD-19 Metadata"
   ]
  },
  {
   "cell_type": "code",
   "execution_count": 12,
   "metadata": {},
   "outputs": [],
   "source": [
    "CACHE = Path(NEO4J_IMPORT +'/cache/cord19/2022-03-31/metadata.csv')"
   ]
  },
  {
   "cell_type": "code",
   "execution_count": 13,
   "metadata": {},
   "outputs": [],
   "source": [
    "metadata = pd.read_csv(CACHE, dtype='str')"
   ]
  },
  {
   "cell_type": "code",
   "execution_count": 14,
   "metadata": {},
   "outputs": [
    {
     "name": "stderr",
     "output_type": "stream",
     "text": [
      "/opt/anaconda3/envs/covid-19-community/lib/python3.7/site-packages/ipykernel_launcher.py:4: FutureWarning: Inferring datetime64[ns] from data containing strings is deprecated and will be removed in a future version. To retain the old behavior explicitly pass Series(data, dtype={value.dtype})\n",
      "  after removing the cwd from sys.path.\n"
     ]
    }
   ],
   "source": [
    "metadata.fillna('', inplace=True)\n",
    "#convert datetime column to just date\n",
    "metadata['year'] = metadata['publish_time'].apply(lambda d: d[:4] if len(d) > 4 else '')\n",
    "metadata['date'] = metadata['publish_time'].apply(lambda d: dateutil.parser.parse(d) if len(d) > 0 else '')"
   ]
  },
  {
   "cell_type": "code",
   "execution_count": 15,
   "metadata": {},
   "outputs": [
    {
     "name": "stdout",
     "output_type": "stream",
     "text": [
      "Total number of papers 992921\n"
     ]
    }
   ],
   "source": [
    "print(\"Total number of papers\", metadata.shape[0])"
   ]
  },
  {
   "cell_type": "code",
   "execution_count": null,
   "metadata": {},
   "outputs": [],
   "source": []
  },
  {
   "cell_type": "code",
   "execution_count": null,
   "metadata": {},
   "outputs": [],
   "source": []
  },
  {
   "cell_type": "markdown",
   "metadata": {
    "tags": []
   },
   "source": [
    "## Extract a list of PANGO lineages"
   ]
  },
  {
   "cell_type": "markdown",
   "metadata": {},
   "source": [
    "Remove special characters to simply parsing for lineages in parenthesis, comma-separated lists, etc."
   ]
  },
  {
   "cell_type": "code",
   "execution_count": 16,
   "metadata": {},
   "outputs": [],
   "source": [
    "metadata['title'] = metadata['title'].replace('[()/,]', ' ', regex=True)\n",
    "metadata['abstract'] = metadata['abstract'].replace('[()/,]', ' ', regex=True)"
   ]
  },
  {
   "cell_type": "markdown",
   "metadata": {},
   "source": [
    "Match PANGO patterns and check agains list of known lineages."
   ]
  },
  {
   "cell_type": "code",
   "execution_count": 17,
   "metadata": {},
   "outputs": [],
   "source": [
    "pattern1 = re.compile(' [A-Z]{1,2}[.]\\d+ ', re.IGNORECASE)\n",
    "pattern2 = re.compile(' [A-Z]{1,2}[.]\\d+[.]\\d+ ', re.IGNORECASE)\n",
    "pattern3 = re.compile(' [A-Z]{1,2}[.]\\d+[.]\\d+[.]+\\d+ ', re.IGNORECASE)\n",
    "\n",
    "# add WHO lineage\n",
    "who_lineage = [' Alpha ', ' Beta ', ' Gamma ', ' Epsilon ',' Zeta ', ' Eta ', ' Theta  ',\\\n",
    "               ' Iota ', ' Kappa ', ' Lambda ', ' Mu ']\n",
    "pattern4 = re.compile(\"|\".join(who_lineage), re.IGNORECASE)"
   ]
  },
  {
   "cell_type": "code",
   "execution_count": 18,
   "metadata": {},
   "outputs": [],
   "source": [
    "# add who to lineages\n",
    "lineages = np.append(lineages, who_lineage)"
   ]
  },
  {
   "cell_type": "code",
   "execution_count": 19,
   "metadata": {},
   "outputs": [],
   "source": [
    "def get_lineages(row):\n",
    "    text = ' ' + row.title + ' ' + row.abstract + ' '\n",
    "    lin = pattern1.findall(text) + pattern2.findall(text) + pattern3.findall(text)\n",
    "    u_lin = set()\n",
    "    \n",
    "    \n",
    "    for l in lin:\n",
    "        l = l.strip()\n",
    "        # check if lineage is valid (e.g., not a withdrawn lineage or false positive)\n",
    "        if l in lineages:\n",
    "            u_lin.add(l)\n",
    "            \n",
    "    return \";\".join(u_lin)"
   ]
  },
  {
   "cell_type": "markdown",
   "metadata": {
    "jp-MarkdownHeadingCollapsed": true,
    "tags": []
   },
   "source": [
    "### Run on whole dataset"
   ]
  },
  {
   "cell_type": "code",
   "execution_count": 32,
   "metadata": {},
   "outputs": [],
   "source": [
    "metadata['lineages'] = metadata.apply(get_lineages, axis=1)"
   ]
  },
  {
   "cell_type": "markdown",
   "metadata": {},
   "source": [
    "Keep only papers that map to PANGO lineages"
   ]
  },
  {
   "cell_type": "code",
   "execution_count": 33,
   "metadata": {},
   "outputs": [],
   "source": [
    "hits = metadata[metadata['lineages'].str.len() > 0].copy()"
   ]
  },
  {
   "cell_type": "code",
   "execution_count": null,
   "metadata": {},
   "outputs": [],
   "source": []
  },
  {
   "cell_type": "markdown",
   "metadata": {
    "jp-MarkdownHeadingCollapsed": true,
    "tags": []
   },
   "source": [
    "### Assign CURIEs from [Identifiers.org](https://identifiers.org)"
   ]
  },
  {
   "cell_type": "code",
   "execution_count": 34,
   "metadata": {},
   "outputs": [],
   "source": [
    "hits['doi'] = hits['doi'].apply(lambda x: 'doi:' + x if len(x) > 0 else '')\n",
    "hits['pubmed_id'] = hits['pubmed_id'].apply(lambda x: 'pubmed:' + x if len(x) > 0 else '')\n",
    "hits['pmcid'] = hits['pmcid'].apply(lambda x: 'pmc:' + x if len(x) > 0 else '')\n",
    "hits['arxiv_id'] = hits['arxiv_id'].apply(lambda x: 'arxiv:' + x if len(x) > 0 else '')"
   ]
  },
  {
   "cell_type": "code",
   "execution_count": 35,
   "metadata": {},
   "outputs": [],
   "source": [
    "#hits.sort_values(by=['publish_time'], ascending=False, inplace=True)"
   ]
  },
  {
   "cell_type": "code",
   "execution_count": 36,
   "metadata": {},
   "outputs": [
    {
     "name": "stdout",
     "output_type": "stream",
     "text": [
      "Number of matches 4419\n"
     ]
    }
   ],
   "source": [
    "print(\"Number of matches\", hits.shape[0])"
   ]
  },
  {
   "cell_type": "code",
   "execution_count": 37,
   "metadata": {},
   "outputs": [],
   "source": [
    "def create_id(row):\n",
    "    \"\"\"Creates a unique id using the most commonly available id in priority order\"\"\"\n",
    "    if row.doi != '':\n",
    "        return row.doi\n",
    "    elif row.pubmed_id != '':\n",
    "        return row.pubmed_id\n",
    "    elif row.pmcid != '':\n",
    "        return row.pmcid\n",
    "    elif row.arxiv_id != '':\n",
    "        return row.arxiv_id\n",
    "    elif row.url != '':\n",
    "        return row.url\n",
    "    else:\n",
    "        # TODO deal with WHO papers here?\n",
    "        return ''"
   ]
  },
  {
   "cell_type": "code",
   "execution_count": 38,
   "metadata": {},
   "outputs": [],
   "source": [
    "hits['id'] = hits.apply(create_id, axis=1)"
   ]
  },
  {
   "cell_type": "markdown",
   "metadata": {},
   "source": [
    "WHO documents seem to be copies of articles that are already present in the dataset and will be ignored for now."
   ]
  },
  {
   "cell_type": "code",
   "execution_count": 40,
   "metadata": {},
   "outputs": [],
   "source": [
    "hits.query('id != \"\"', inplace=True)"
   ]
  },
  {
   "cell_type": "code",
   "execution_count": 41,
   "metadata": {},
   "outputs": [
    {
     "name": "stdout",
     "output_type": "stream",
     "text": [
      "Total number of matches 3200\n"
     ]
    }
   ],
   "source": [
    "print(\"Total number of matches\", hits.shape[0])"
   ]
  },
  {
   "cell_type": "code",
   "execution_count": 44,
   "metadata": {},
   "outputs": [],
   "source": [
    "hits.to_csv(NEO4J_IMPORT + \"01h-CORDLineages.csv\", index=False)"
   ]
  },
  {
   "cell_type": "markdown",
   "metadata": {
    "tags": []
   },
   "source": [
    "## Fulltext Regrex\n"
   ]
  },
  {
   "cell_type": "code",
   "execution_count": 278,
   "metadata": {},
   "outputs": [],
   "source": [
    "# get articles ids for specific lineage\n",
    "def get_ids(lineage):\n",
    "    url = requests.get(f'https://www.ebi.ac.uk/europepmc/webservices/rest/search?query=(%22{lineage}%22%20AND%20(%22SARS-CoV-2%22%20OR%20%22COVID-19%22)%20AND%20(%22lineage%22%20OR%20%22lineages%22%20OR%20%22strain%22%20OR%20%22strains%22%20OR%20%22variants%22%20OR%20%22variants%22))%20AND%20(FIRST_PDATE:%5b2020-01-01%20)%20AND%20HAS_FT:y%20AND%20%20sort_date:y&resultType=idlist&pageSize=1000&format=json&cursorMark=*')\n",
    "    text = url.text\n",
    "    print(text[:5])\n",
    "    results = json.loads(text)['resultList']['result']\n",
    "    ids = list(map(lambda x: x['fullTextIdList']['fullTextId'][0], results))\n",
    "    return ids"
   ]
  },
  {
   "cell_type": "code",
   "execution_count": 21,
   "metadata": {},
   "outputs": [],
   "source": [
    "# download articles in XML and return body paragraph\n",
    "def download_article(article_id):\n",
    "    url = f'https://www.ebi.ac.uk/europepmc/webservices/rest/{article_id}/fullTextXML'\n",
    "    xmldoc = parse(urlopen(url))\n",
    "    \n",
    "    # get full text\n",
    "    root = xmldoc.getroot()\n",
    "    text = root.findall('.//p')\n",
    "\n",
    "    # put body paragraphs together\n",
    "    ptext = \"\"\n",
    "    for p in text:\n",
    "        ptext += ''.join([x for x in p.itertext()]) + '.\\n' + '\\n'\n",
    "    return ptext"
   ]
  },
  {
   "cell_type": "code",
   "execution_count": 22,
   "metadata": {},
   "outputs": [],
   "source": [
    "# get lineage for full texts\n",
    "def get_full_lineage(ptext):\n",
    "    # tokenize texts into sentences\n",
    "    p_sentence = nltk.tokenize.sent_tokenize(ptext)\n",
    "    \n",
    "    # record lineages\n",
    "    linset = set()\n",
    "    pair = []\n",
    "    for s in p_sentence:\n",
    "        s1 = re.subn('[()/,]', ' ', s)[0] # remove special chars\n",
    "        lin = set(pattern1.findall(s1) + pattern2.findall(s1) + pattern3.findall(s1) + pattern4.findall(s1))\n",
    "\n",
    "        if lin: \n",
    "            for l in lin:\n",
    "                # valid lineage and not recorded\n",
    "                l = l.strip()\n",
    "                l = l.capitalize()\n",
    "                if (l in lineages) and (l not in linset): \n",
    "                    linset.add(l)\n",
    "                    pair.append([l, s])\n",
    "                else: continue\n",
    "\n",
    "    \n",
    "    \"\"\"\n",
    "    ptext = re.subn('[()/,]', ' ', ptext)[0] # remove special chars\n",
    "    lin = pattern1.findall(ptext) + pattern2.findall(ptext) + pattern3.findall(ptext)\n",
    "    lin_set = set(lin)\n",
    "    \n",
    "    record = []\n",
    "    if lin_set:\n",
    "        for l in lin_set:\n",
    "            \n",
    "            sen = re.search(r\"\\.?([^\\.]*{}[^\\.]*)\".format(l), ptext).group()\n",
    "            record.append([l, sen])\n",
    "    \"\"\"\n",
    "    return pair"
   ]
  },
  {
   "cell_type": "code",
   "execution_count": 55,
   "metadata": {},
   "outputs": [],
   "source": [
    "# wrap up function take lineage ids as input and output dataframe\n",
    "def extract_full(ids):\n",
    "    full_regrex = []\n",
    "    \n",
    "    if not ids:  \n",
    "        return None\n",
    "    for i in ids:\n",
    "        try:\n",
    "            body_text = download_article(i) # get body text\n",
    "            record = get_full_lineage(body_text) # extract lineages in text\n",
    "            [x.append(i) for x in record] # attach article id to lineage record\n",
    "            full_regrex.append(pd.DataFrame(record))\n",
    "        except urllib.error.HTTPError as exc:\n",
    "            time.sleep(10) # wait 10 seconds and then make http request again\n",
    "            continue\n",
    "    df_fulltext = pd.concat(full_regrex)\n",
    "    df_fulltext.columns = ['lineage', 'string', 'ID']\n",
    "    return df_fulltext\n",
    "\n",
    "\n",
    "    "
   ]
  },
  {
   "cell_type": "code",
   "execution_count": null,
   "metadata": {},
   "outputs": [],
   "source": []
  },
  {
   "cell_type": "markdown",
   "metadata": {
    "jp-MarkdownHeadingCollapsed": true,
    "tags": []
   },
   "source": [
    "#### test on B.1.1.7\n"
   ]
  },
  {
   "cell_type": "code",
   "execution_count": 231,
   "metadata": {},
   "outputs": [],
   "source": [
    "lineage = 'B.1.1.7'\n",
    "ids = get_ids(lineage)\n",
    "\n",
    "full_regrex = []\n",
    "for i in ids:\n",
    "    try: \n",
    "        path = Path(f'{lineage}/{i}.txt')\n",
    "        \n",
    "        # if file not exist, get body text and save to file\n",
    "        if not path.is_file():\n",
    "            body_text = download_article(i)\n",
    "            path.parent.mkdir(parents=True, exist_ok=True)\n",
    "            with path.open(\"w\", encoding =\"utf-8\") as f:\n",
    "                f.write(body_text)\n",
    "                f.close()\n",
    "        else: # otherwise retrieve text\n",
    "            body_text = path.read_text()\n",
    "        \n",
    "        \n",
    "        record = get_full_lineage(body_text) # get lineages\n",
    "        [x.append(i) for x in record] # attach article id to lineage record\n",
    "        full_regrex.append(pd.DataFrame(record))\n",
    "    except urllib.error.HTTPError as exc:\n",
    "        time.sleep(10) # wait 10 seconds and then make http request again\n",
    "        continue\n",
    "\n",
    "fulltext_lineage = pd.concat(full_regrex)"
   ]
  },
  {
   "cell_type": "code",
   "execution_count": 233,
   "metadata": {},
   "outputs": [],
   "source": [
    "fulltext_lineage.to_csv('B_1_1_7.csv',index=False, header = ['lineage', 'string contains lineage', 'ID'])"
   ]
  },
  {
   "cell_type": "markdown",
   "metadata": {
    "jp-MarkdownHeadingCollapsed": true,
    "tags": []
   },
   "source": [
    "#### test on P.1"
   ]
  },
  {
   "cell_type": "code",
   "execution_count": 234,
   "metadata": {},
   "outputs": [],
   "source": [
    "lineage = 'P.1'\n",
    "ids = get_ids(lineage)\n",
    "\n",
    "full_regrex = []\n",
    "for i in ids:\n",
    "    try: \n",
    "        path = Path(f'{lineage}/{i}.txt')\n",
    "        \n",
    "        # if file not exist, get body text and save to file\n",
    "        if not path.is_file():\n",
    "            body_text = download_article(i)\n",
    "            path.parent.mkdir(parents=True, exist_ok=True)\n",
    "            with path.open(\"w\", encoding =\"utf-8\") as f:\n",
    "                f.write(body_text)\n",
    "                f.close()\n",
    "        else: # otherwise retrieve text\n",
    "            body_text = path.read_text()\n",
    "        \n",
    "        \n",
    "        record = get_full_lineage(body_text) # get lineages\n",
    "        [x.append(i) for x in record] # attach article id to lineage record\n",
    "        full_regrex.append(pd.DataFrame(record))\n",
    "    except urllib.error.HTTPError as exc:\n",
    "        time.sleep(10) # wait 10 seconds and then make http request again\n",
    "        continue\n",
    "\n",
    "fulltext_lineage = pd.concat(full_regrex)"
   ]
  },
  {
   "cell_type": "code",
   "execution_count": 253,
   "metadata": {},
   "outputs": [],
   "source": [
    "fulltext_lineage.to_csv('P_1.csv',index=False, header = ['lineage', 'string contains lineage', 'ID'])"
   ]
  },
  {
   "cell_type": "code",
   "execution_count": null,
   "metadata": {},
   "outputs": [],
   "source": []
  },
  {
   "cell_type": "markdown",
   "metadata": {
    "jp-MarkdownHeadingCollapsed": true,
    "tags": []
   },
   "source": [
    "### manual check possible false postives\n",
    "#### B.1.1.7"
   ]
  },
  {
   "cell_type": "code",
   "execution_count": 276,
   "metadata": {},
   "outputs": [],
   "source": [
    "b117 = pd.read_csv('B_1_1_7.csv')"
   ]
  },
  {
   "cell_type": "code",
   "execution_count": 277,
   "metadata": {},
   "outputs": [],
   "source": [
    "b117 = b117.drop(['Unnamed: 0'],axis = 1)\n",
    "b117.columns = ['lineage', 'string contains lineage', 'ID']"
   ]
  },
  {
   "cell_type": "code",
   "execution_count": 346,
   "metadata": {},
   "outputs": [],
   "source": [
    "# 1. same sentence with many lineages are counted as positive, we remove those \n",
    "b117_sub = b117[~ b117.duplicated('string contains lineage',keep=False)]"
   ]
  },
  {
   "cell_type": "code",
   "execution_count": 349,
   "metadata": {},
   "outputs": [],
   "source": [
    "# 2. extract articles with only one lineage, which are possibly FP\n",
    "IDs = b117_sub.groupby('ID').lineage.count().loc[lambda p : p == 1].index"
   ]
  },
  {
   "cell_type": "code",
   "execution_count": 350,
   "metadata": {},
   "outputs": [],
   "source": [
    "b117_sub = b117_sub.set_index('ID').loc[IDs]"
   ]
  },
  {
   "cell_type": "code",
   "execution_count": 369,
   "metadata": {},
   "outputs": [],
   "source": [
    "# manual check\n",
    "#print(b117_sub['string contains lineage'].str.cat(sep = '\\n '))"
   ]
  },
  {
   "cell_type": "markdown",
   "metadata": {},
   "source": [
    "#### P.1"
   ]
  },
  {
   "cell_type": "code",
   "execution_count": 370,
   "metadata": {},
   "outputs": [],
   "source": [
    "p1 = pd.read_csv(\"P_1.csv\")\n",
    "p1_sub = p1[~ p1.duplicated('string contains lineage',keep=False)]\n",
    "IDs_1 = p1_sub.groupby('ID').lineage.count().loc[lambda p : p == 1].index"
   ]
  },
  {
   "cell_type": "code",
   "execution_count": 371,
   "metadata": {},
   "outputs": [],
   "source": [
    "p1_sub = p1_sub.set_index('ID').loc[IDs_1]"
   ]
  },
  {
   "cell_type": "code",
   "execution_count": 379,
   "metadata": {},
   "outputs": [
    {
     "data": {
      "text/html": [
       "<div>\n",
       "<style scoped>\n",
       "    .dataframe tbody tr th:only-of-type {\n",
       "        vertical-align: middle;\n",
       "    }\n",
       "\n",
       "    .dataframe tbody tr th {\n",
       "        vertical-align: top;\n",
       "    }\n",
       "\n",
       "    .dataframe thead th {\n",
       "        text-align: right;\n",
       "    }\n",
       "</style>\n",
       "<table border=\"1\" class=\"dataframe\">\n",
       "  <thead>\n",
       "    <tr style=\"text-align: right;\">\n",
       "      <th></th>\n",
       "      <th>lineage</th>\n",
       "      <th>string contains lineage</th>\n",
       "    </tr>\n",
       "    <tr>\n",
       "      <th>ID</th>\n",
       "      <th></th>\n",
       "      <th></th>\n",
       "    </tr>\n",
       "  </thead>\n",
       "  <tbody>\n",
       "    <tr>\n",
       "      <th>PPR282435</th>\n",
       "      <td>R.9.4.1</td>\n",
       "      <td>The nucleic acid was converted to cDNA and amp...</td>\n",
       "    </tr>\n",
       "  </tbody>\n",
       "</table>\n",
       "</div>"
      ],
      "text/plain": [
       "             lineage                            string contains lineage\n",
       "ID                                                                     \n",
       "PPR282435   R.9.4.1   The nucleic acid was converted to cDNA and amp..."
      ]
     },
     "execution_count": 379,
     "metadata": {},
     "output_type": "execute_result"
    }
   ],
   "source": [
    "p1_sub[p1_sub['string contains lineage'].str.contains('The nucleic acid')]"
   ]
  },
  {
   "cell_type": "markdown",
   "metadata": {},
   "source": [
    "## Start Generalization"
   ]
  },
  {
   "cell_type": "code",
   "execution_count": 165,
   "metadata": {},
   "outputs": [],
   "source": [
    "import time\n",
    "\n",
    "def iter_lineage(l_):\n",
    "    \n",
    "    #for l_ in lineage: This is redundant in mapping\n",
    "     \n",
    "    start = time.time()\n",
    "    print(f'start {l_}')\n",
    "    #get ids\n",
    "    ids = get_ids(l_)\n",
    "    try:\n",
    "        # if lineage processed before, run on new ids\n",
    "        path = Path(f'{l_}_df.csv')\n",
    "        if path.is_file():\n",
    "            df = pd.read_csv(path)\n",
    "            id_ran = set(df.ID)\n",
    "            id_to_run = set(ids) - id_ran\n",
    "            df_new = extract_full(id_to_run) # merge with original df\n",
    "            ddf = pd.concat([df, df_new], axis = 0)\n",
    "\n",
    "        else: # otherwise run on all ids\n",
    "            id_to_run = ids\n",
    "            ddf = extract_full(id_to_run)\n",
    "\n",
    "        ddf.to_csv(f'{l_}_df.csv',index=False, \\\n",
    "                                    header = ['lineage', 'string', 'ID'])\n",
    "        end = time.time()\n",
    "        print(f'done with {l_}, time duration --- seconds --- {end - start} \\n')\n",
    "    except:\n",
    "        id_to_run = ids\n",
    "        ddf = extract_full(id_to_run)\n",
    "        ddf.to_csv(f'{l_}_df.csv',index=False, \\\n",
    "                                    header = ['lineage', 'string', 'ID'])\n",
    "        end = time.time()\n",
    "        print(f'done with {l_}, time duration --- seconds --- {end - start} \\n')\n",
    "        \n"
   ]
  },
  {
   "cell_type": "code",
   "execution_count": 731,
   "metadata": {},
   "outputs": [],
   "source": [
    "i1 = get_ids('A.1')\n",
    "i2 = get_ids('A.2')"
   ]
  },
  {
   "cell_type": "code",
   "execution_count": 718,
   "metadata": {},
   "outputs": [],
   "source": [
    "d1 = extract_full(i1[:10])\n",
    "d2 = extract_full(i2[:10])"
   ]
  },
  {
   "cell_type": "code",
   "execution_count": 732,
   "metadata": {},
   "outputs": [
    {
     "data": {
      "text/plain": [
       "(['PMC8725908', 'PMC8725896', 'PMC9181312', 'PMC9174147', 'PMC9162986'],\n",
       " ['PMC8725908', 'PMC8725896', 'PMC9174147', 'PMC9132978', 'PMC9132891'])"
      ]
     },
     "execution_count": 732,
     "metadata": {},
     "output_type": "execute_result"
    }
   ],
   "source": [
    "i1[:5],i2[:5]"
   ]
  },
  {
   "cell_type": "code",
   "execution_count": 720,
   "metadata": {},
   "outputs": [
    {
     "data": {
      "text/plain": [
       "(28, 3)"
      ]
     },
     "execution_count": 720,
     "metadata": {},
     "output_type": "execute_result"
    }
   ],
   "source": [
    "d1.shape"
   ]
  },
  {
   "cell_type": "code",
   "execution_count": 721,
   "metadata": {},
   "outputs": [
    {
     "data": {
      "text/plain": [
       "(36, 3)"
      ]
     },
     "execution_count": 721,
     "metadata": {},
     "output_type": "execute_result"
    }
   ],
   "source": [
    "d2.shape"
   ]
  },
  {
   "cell_type": "code",
   "execution_count": 127,
   "metadata": {},
   "outputs": [
    {
     "data": {
      "text/plain": [
       "array(['A.1', 'A.2', 'A.2.2', 'A.2.3', 'A.2.4', 'A.2.5', 'A.2.5.1',\n",
       "       'A.2.5.2', 'A.2.5.3', 'A.3'], dtype=object)"
      ]
     },
     "execution_count": 127,
     "metadata": {},
     "output_type": "execute_result"
    }
   ],
   "source": [
    "l_10 = lineages[:10]\n",
    "l_10\n"
   ]
  },
  {
   "cell_type": "markdown",
   "metadata": {},
   "source": [
    "### parallel running"
   ]
  },
  {
   "cell_type": "code",
   "execution_count": 387,
   "metadata": {},
   "outputs": [],
   "source": [
    "from dask.distributed import Client, progress"
   ]
  },
  {
   "cell_type": "code",
   "execution_count": 390,
   "metadata": {},
   "outputs": [
    {
     "name": "stderr",
     "output_type": "stream",
     "text": [
      "/opt/anaconda3/envs/covid-19-community/lib/python3.7/site-packages/distributed/node.py:182: UserWarning: Port 8787 is already in use.\n",
      "Perhaps you already have a cluster running?\n",
      "Hosting the HTTP server on port 62301 instead\n",
      "  f\"Port {expected} is already in use.\\n\"\n"
     ]
    },
    {
     "data": {
      "text/html": [
       "<div>\n",
       "    <div style=\"width: 24px; height: 24px; background-color: #e1e1e1; border: 3px solid #9D9D9D; border-radius: 5px; position: absolute;\"> </div>\n",
       "    <div style=\"margin-left: 48px;\">\n",
       "        <h3 style=\"margin-bottom: 0px;\">Client</h3>\n",
       "        <p style=\"color: #9D9D9D; margin-bottom: 0px;\">Client-ad28d510-f506-11ec-834f-8c8590c1bce1</p>\n",
       "        <table style=\"width: 100%; text-align: left;\">\n",
       "\n",
       "        <tr>\n",
       "        \n",
       "            <td style=\"text-align: left;\"><strong>Connection method:</strong> Cluster object</td>\n",
       "            <td style=\"text-align: left;\"><strong>Cluster type:</strong> distributed.LocalCluster</td>\n",
       "        \n",
       "        </tr>\n",
       "\n",
       "        \n",
       "            <tr>\n",
       "                <td style=\"text-align: left;\">\n",
       "                    <strong>Dashboard: </strong> <a href=\"http://127.0.0.1:62301/status\" target=\"_blank\">http://127.0.0.1:62301/status</a>\n",
       "                </td>\n",
       "                <td style=\"text-align: left;\"></td>\n",
       "            </tr>\n",
       "        \n",
       "\n",
       "        </table>\n",
       "\n",
       "        \n",
       "            <details>\n",
       "            <summary style=\"margin-bottom: 20px;\"><h3 style=\"display: inline;\">Cluster Info</h3></summary>\n",
       "            <div class=\"jp-RenderedHTMLCommon jp-RenderedHTML jp-mod-trusted jp-OutputArea-output\">\n",
       "    <div style=\"width: 24px; height: 24px; background-color: #e1e1e1; border: 3px solid #9D9D9D; border-radius: 5px; position: absolute;\">\n",
       "    </div>\n",
       "    <div style=\"margin-left: 48px;\">\n",
       "        <h3 style=\"margin-bottom: 0px; margin-top: 0px;\">LocalCluster</h3>\n",
       "        <p style=\"color: #9D9D9D; margin-bottom: 0px;\">c1c7be1e</p>\n",
       "        <table style=\"width: 100%; text-align: left;\">\n",
       "            <tr>\n",
       "                <td style=\"text-align: left;\">\n",
       "                    <strong>Dashboard:</strong> <a href=\"http://127.0.0.1:62301/status\" target=\"_blank\">http://127.0.0.1:62301/status</a>\n",
       "                </td>\n",
       "                <td style=\"text-align: left;\">\n",
       "                    <strong>Workers:</strong> 4\n",
       "                </td>\n",
       "            </tr>\n",
       "            <tr>\n",
       "                <td style=\"text-align: left;\">\n",
       "                    <strong>Total threads:</strong> 4\n",
       "                </td>\n",
       "                <td style=\"text-align: left;\">\n",
       "                    <strong>Total memory:</strong> 16.00 GiB\n",
       "                </td>\n",
       "            </tr>\n",
       "            \n",
       "            <tr>\n",
       "    <td style=\"text-align: left;\"><strong>Status:</strong> running</td>\n",
       "    <td style=\"text-align: left;\"><strong>Using processes:</strong> True</td>\n",
       "</tr>\n",
       "\n",
       "            \n",
       "        </table>\n",
       "\n",
       "        <details>\n",
       "            <summary style=\"margin-bottom: 20px;\">\n",
       "                <h3 style=\"display: inline;\">Scheduler Info</h3>\n",
       "            </summary>\n",
       "\n",
       "            <div style=\"\">\n",
       "    <div>\n",
       "        <div style=\"width: 24px; height: 24px; background-color: #FFF7E5; border: 3px solid #FF6132; border-radius: 5px; position: absolute;\"> </div>\n",
       "        <div style=\"margin-left: 48px;\">\n",
       "            <h3 style=\"margin-bottom: 0px;\">Scheduler</h3>\n",
       "            <p style=\"color: #9D9D9D; margin-bottom: 0px;\">Scheduler-886b8c69-1693-41cb-a7b6-10fe23006cad</p>\n",
       "            <table style=\"width: 100%; text-align: left;\">\n",
       "                <tr>\n",
       "                    <td style=\"text-align: left;\">\n",
       "                        <strong>Comm:</strong> tcp://127.0.0.1:62302\n",
       "                    </td>\n",
       "                    <td style=\"text-align: left;\">\n",
       "                        <strong>Workers:</strong> 4\n",
       "                    </td>\n",
       "                </tr>\n",
       "                <tr>\n",
       "                    <td style=\"text-align: left;\">\n",
       "                        <strong>Dashboard:</strong> <a href=\"http://127.0.0.1:62301/status\" target=\"_blank\">http://127.0.0.1:62301/status</a>\n",
       "                    </td>\n",
       "                    <td style=\"text-align: left;\">\n",
       "                        <strong>Total threads:</strong> 4\n",
       "                    </td>\n",
       "                </tr>\n",
       "                <tr>\n",
       "                    <td style=\"text-align: left;\">\n",
       "                        <strong>Started:</strong> Just now\n",
       "                    </td>\n",
       "                    <td style=\"text-align: left;\">\n",
       "                        <strong>Total memory:</strong> 16.00 GiB\n",
       "                    </td>\n",
       "                </tr>\n",
       "            </table>\n",
       "        </div>\n",
       "    </div>\n",
       "\n",
       "    <details style=\"margin-left: 48px;\">\n",
       "        <summary style=\"margin-bottom: 20px;\">\n",
       "            <h3 style=\"display: inline;\">Workers</h3>\n",
       "        </summary>\n",
       "\n",
       "        \n",
       "        <div style=\"margin-bottom: 20px;\">\n",
       "            <div style=\"width: 24px; height: 24px; background-color: #DBF5FF; border: 3px solid #4CC9FF; border-radius: 5px; position: absolute;\"> </div>\n",
       "            <div style=\"margin-left: 48px;\">\n",
       "            <details>\n",
       "                <summary>\n",
       "                    <h4 style=\"margin-bottom: 0px; display: inline;\">Worker: 0</h4>\n",
       "                </summary>\n",
       "                <table style=\"width: 100%; text-align: left;\">\n",
       "                    <tr>\n",
       "                        <td style=\"text-align: left;\">\n",
       "                            <strong>Comm: </strong> tcp://127.0.0.1:62323\n",
       "                        </td>\n",
       "                        <td style=\"text-align: left;\">\n",
       "                            <strong>Total threads: </strong> 1\n",
       "                        </td>\n",
       "                    </tr>\n",
       "                    <tr>\n",
       "                        <td style=\"text-align: left;\">\n",
       "                            <strong>Dashboard: </strong> <a href=\"http://127.0.0.1:62324/status\" target=\"_blank\">http://127.0.0.1:62324/status</a>\n",
       "                        </td>\n",
       "                        <td style=\"text-align: left;\">\n",
       "                            <strong>Memory: </strong> 4.00 GiB\n",
       "                        </td>\n",
       "                    </tr>\n",
       "                    <tr>\n",
       "                        <td style=\"text-align: left;\">\n",
       "                            <strong>Nanny: </strong> tcp://127.0.0.1:62309\n",
       "                        </td>\n",
       "                        <td style=\"text-align: left;\"></td>\n",
       "                    </tr>\n",
       "                    <tr>\n",
       "                        <td colspan=\"2\" style=\"text-align: left;\">\n",
       "                            <strong>Local directory: </strong> /Users/lyt/Desktop/COVID-19/covid-19-community/notebooks/dataprep/dask-worker-space/worker-caitlq4j\n",
       "                        </td>\n",
       "                    </tr>\n",
       "\n",
       "                    \n",
       "\n",
       "                    \n",
       "\n",
       "                </table>\n",
       "            </details>\n",
       "            </div>\n",
       "        </div>\n",
       "        \n",
       "        <div style=\"margin-bottom: 20px;\">\n",
       "            <div style=\"width: 24px; height: 24px; background-color: #DBF5FF; border: 3px solid #4CC9FF; border-radius: 5px; position: absolute;\"> </div>\n",
       "            <div style=\"margin-left: 48px;\">\n",
       "            <details>\n",
       "                <summary>\n",
       "                    <h4 style=\"margin-bottom: 0px; display: inline;\">Worker: 1</h4>\n",
       "                </summary>\n",
       "                <table style=\"width: 100%; text-align: left;\">\n",
       "                    <tr>\n",
       "                        <td style=\"text-align: left;\">\n",
       "                            <strong>Comm: </strong> tcp://127.0.0.1:62314\n",
       "                        </td>\n",
       "                        <td style=\"text-align: left;\">\n",
       "                            <strong>Total threads: </strong> 1\n",
       "                        </td>\n",
       "                    </tr>\n",
       "                    <tr>\n",
       "                        <td style=\"text-align: left;\">\n",
       "                            <strong>Dashboard: </strong> <a href=\"http://127.0.0.1:62315/status\" target=\"_blank\">http://127.0.0.1:62315/status</a>\n",
       "                        </td>\n",
       "                        <td style=\"text-align: left;\">\n",
       "                            <strong>Memory: </strong> 4.00 GiB\n",
       "                        </td>\n",
       "                    </tr>\n",
       "                    <tr>\n",
       "                        <td style=\"text-align: left;\">\n",
       "                            <strong>Nanny: </strong> tcp://127.0.0.1:62305\n",
       "                        </td>\n",
       "                        <td style=\"text-align: left;\"></td>\n",
       "                    </tr>\n",
       "                    <tr>\n",
       "                        <td colspan=\"2\" style=\"text-align: left;\">\n",
       "                            <strong>Local directory: </strong> /Users/lyt/Desktop/COVID-19/covid-19-community/notebooks/dataprep/dask-worker-space/worker-j7kue5a8\n",
       "                        </td>\n",
       "                    </tr>\n",
       "\n",
       "                    \n",
       "\n",
       "                    \n",
       "\n",
       "                </table>\n",
       "            </details>\n",
       "            </div>\n",
       "        </div>\n",
       "        \n",
       "        <div style=\"margin-bottom: 20px;\">\n",
       "            <div style=\"width: 24px; height: 24px; background-color: #DBF5FF; border: 3px solid #4CC9FF; border-radius: 5px; position: absolute;\"> </div>\n",
       "            <div style=\"margin-left: 48px;\">\n",
       "            <details>\n",
       "                <summary>\n",
       "                    <h4 style=\"margin-bottom: 0px; display: inline;\">Worker: 2</h4>\n",
       "                </summary>\n",
       "                <table style=\"width: 100%; text-align: left;\">\n",
       "                    <tr>\n",
       "                        <td style=\"text-align: left;\">\n",
       "                            <strong>Comm: </strong> tcp://127.0.0.1:62317\n",
       "                        </td>\n",
       "                        <td style=\"text-align: left;\">\n",
       "                            <strong>Total threads: </strong> 1\n",
       "                        </td>\n",
       "                    </tr>\n",
       "                    <tr>\n",
       "                        <td style=\"text-align: left;\">\n",
       "                            <strong>Dashboard: </strong> <a href=\"http://127.0.0.1:62319/status\" target=\"_blank\">http://127.0.0.1:62319/status</a>\n",
       "                        </td>\n",
       "                        <td style=\"text-align: left;\">\n",
       "                            <strong>Memory: </strong> 4.00 GiB\n",
       "                        </td>\n",
       "                    </tr>\n",
       "                    <tr>\n",
       "                        <td style=\"text-align: left;\">\n",
       "                            <strong>Nanny: </strong> tcp://127.0.0.1:62307\n",
       "                        </td>\n",
       "                        <td style=\"text-align: left;\"></td>\n",
       "                    </tr>\n",
       "                    <tr>\n",
       "                        <td colspan=\"2\" style=\"text-align: left;\">\n",
       "                            <strong>Local directory: </strong> /Users/lyt/Desktop/COVID-19/covid-19-community/notebooks/dataprep/dask-worker-space/worker-nt4fff35\n",
       "                        </td>\n",
       "                    </tr>\n",
       "\n",
       "                    \n",
       "\n",
       "                    \n",
       "\n",
       "                </table>\n",
       "            </details>\n",
       "            </div>\n",
       "        </div>\n",
       "        \n",
       "        <div style=\"margin-bottom: 20px;\">\n",
       "            <div style=\"width: 24px; height: 24px; background-color: #DBF5FF; border: 3px solid #4CC9FF; border-radius: 5px; position: absolute;\"> </div>\n",
       "            <div style=\"margin-left: 48px;\">\n",
       "            <details>\n",
       "                <summary>\n",
       "                    <h4 style=\"margin-bottom: 0px; display: inline;\">Worker: 3</h4>\n",
       "                </summary>\n",
       "                <table style=\"width: 100%; text-align: left;\">\n",
       "                    <tr>\n",
       "                        <td style=\"text-align: left;\">\n",
       "                            <strong>Comm: </strong> tcp://127.0.0.1:62318\n",
       "                        </td>\n",
       "                        <td style=\"text-align: left;\">\n",
       "                            <strong>Total threads: </strong> 1\n",
       "                        </td>\n",
       "                    </tr>\n",
       "                    <tr>\n",
       "                        <td style=\"text-align: left;\">\n",
       "                            <strong>Dashboard: </strong> <a href=\"http://127.0.0.1:62320/status\" target=\"_blank\">http://127.0.0.1:62320/status</a>\n",
       "                        </td>\n",
       "                        <td style=\"text-align: left;\">\n",
       "                            <strong>Memory: </strong> 4.00 GiB\n",
       "                        </td>\n",
       "                    </tr>\n",
       "                    <tr>\n",
       "                        <td style=\"text-align: left;\">\n",
       "                            <strong>Nanny: </strong> tcp://127.0.0.1:62308\n",
       "                        </td>\n",
       "                        <td style=\"text-align: left;\"></td>\n",
       "                    </tr>\n",
       "                    <tr>\n",
       "                        <td colspan=\"2\" style=\"text-align: left;\">\n",
       "                            <strong>Local directory: </strong> /Users/lyt/Desktop/COVID-19/covid-19-community/notebooks/dataprep/dask-worker-space/worker-wgytwgcp\n",
       "                        </td>\n",
       "                    </tr>\n",
       "\n",
       "                    \n",
       "\n",
       "                    \n",
       "\n",
       "                </table>\n",
       "            </details>\n",
       "            </div>\n",
       "        </div>\n",
       "        \n",
       "\n",
       "    </details>\n",
       "</div>\n",
       "\n",
       "        </details>\n",
       "    </div>\n",
       "</div>\n",
       "            </details>\n",
       "        \n",
       "\n",
       "    </div>\n",
       "</div>"
      ],
      "text/plain": [
       "<Client: 'tcp://127.0.0.1:62302' processes=4 threads=4, memory=16.00 GiB>"
      ]
     },
     "execution_count": 390,
     "metadata": {},
     "output_type": "execute_result"
    }
   ],
   "source": [
    "client = Client(n_workers=4, threads_per_worker=1, memory_limit=\"4 GiB\")\n",
    "client"
   ]
  },
  {
   "cell_type": "code",
   "execution_count": 243,
   "metadata": {},
   "outputs": [],
   "source": [
    "import dask.bag as db\n",
    "\n",
    "b = db.from_sequence(l_10)"
   ]
  },
  {
   "cell_type": "code",
   "execution_count": 181,
   "metadata": {},
   "outputs": [
    {
     "name": "stdout",
     "output_type": "stream",
     "text": [
      "Total time: 4.617193937301636\n"
     ]
    }
   ],
   "source": [
    "start = time.time()\n",
    "result = b.map(lambda l: get_ids(l))\n",
    "result.compute()\n",
    "end = time.time()\n",
    "print('Total time:', end-start)"
   ]
  },
  {
   "cell_type": "code",
   "execution_count": 191,
   "metadata": {},
   "outputs": [],
   "source": [
    "a = get_ids('A.1')"
   ]
  },
  {
   "cell_type": "code",
   "execution_count": 192,
   "metadata": {},
   "outputs": [
    {
     "data": {
      "text/plain": [
       "358"
      ]
     },
     "execution_count": 192,
     "metadata": {},
     "output_type": "execute_result"
    }
   ],
   "source": [
    "len(a)"
   ]
  },
  {
   "cell_type": "code",
   "execution_count": 195,
   "metadata": {},
   "outputs": [
    {
     "data": {
      "text/plain": [
       "15"
      ]
     },
     "execution_count": 195,
     "metadata": {},
     "output_type": "execute_result"
    }
   ],
   "source": [
    "len(get_ids('A.2.2'))"
   ]
  },
  {
   "cell_type": "code",
   "execution_count": 177,
   "metadata": {},
   "outputs": [
    {
     "name": "stdout",
     "output_type": "stream",
     "text": [
      "start A.1\n",
      "done with A.1, time duration --- seconds --- 1427.6210389137268 \n",
      "\n"
     ]
    }
   ],
   "source": [
    "start = time.time()\n",
    "for i in l_10[:1]:\n",
    "    iter_lineage(i)\n",
    "end = time.time()"
   ]
  },
  {
   "cell_type": "code",
   "execution_count": 178,
   "metadata": {},
   "outputs": [
    {
     "name": "stdout",
     "output_type": "stream",
     "text": [
      "Total time: 1427.6240351200104\n"
     ]
    }
   ],
   "source": [
    "print('Total time:', end-start)"
   ]
  },
  {
   "cell_type": "code",
   "execution_count": 313,
   "metadata": {},
   "outputs": [],
   "source": [
    "def parellel_iter(l_): \n",
    "    \n",
    "    #for l_ in lineage: This is redundant in mapping\n",
    "     \n",
    "    start = time.time()\n",
    "    print(f'start {l_}')\n",
    "    #get ids\n",
    "    ids = get_ids(l_)\n",
    "\n",
    "    try:\n",
    "        # if lineage processed before, run on new ids\n",
    "        path = Path(f'{l_}_df.csv')\n",
    "        if path.is_file():\n",
    "            df = pd.read_csv(path)\n",
    "            id_ran = set(df.ID)\n",
    "            id_to_run = set(ids) - id_ran\n",
    "            if id_to_run: \n",
    "                bag_id = db.from_sequence(id_to_run)\n",
    "                dds = bag_id.map(lambda i: extract_full_parallel2(i))\n",
    "                df_new = dds.take(1)[0]\n",
    "                ddf = pd.concat([df, df_new], axis = 0)\n",
    "\n",
    "        else: # otherwise run on all ids\n",
    "            id_to_run = ids\n",
    "            bag_id = db.from_sequence(id_to_run)\n",
    "            dds = bag_id.map(lambda i: extract_full_parallel2(i)) \n",
    "            ddf = dds.take(1)[0]\n",
    "\n",
    "        ddf.to_dataframe().to_csv(f'{l_}_df.csv',index=False, \\\n",
    "                                    header = ['lineage', 'string', 'ID'])\n",
    "        end = time.time()\n",
    "        print(f'done with {l_}, time duration --- seconds --- {end - start} \\n')\n",
    "    except:\n",
    "        id_to_run = ids\n",
    "        bag_id = db.from_sequence(id_to_run)\n",
    "        dds = bag_id.map(lambda i: extract_full_parallel2(i))\n",
    "        ddf = dds.take(1)[0]\n",
    "        ddf.to_csv(f'{l_}_df.csv',index=False, \\\n",
    "                                    header = ['lineage', 'string', 'ID'])\n",
    "        end = time.time()\n",
    "        print(f'done with {l_}, time duration --- seconds --- {end - start} \\n')\n",
    "        \n"
   ]
  },
  {
   "cell_type": "code",
   "execution_count": 1,
   "metadata": {},
   "outputs": [],
   "source": [
    "# no looping\n",
    "def extract_full_parallel(ids):\n",
    "    #ids = dic['ids']\n",
    "    record = []\n",
    "    \n",
    "    \"\"\"if not ids:  \n",
    "        return None\n",
    "    for i in ids:\"\"\"\n",
    "    \n",
    "    try:\n",
    "        body_text = download_article(ids) # get body text\n",
    "        record = get_full_lineage(body_text) # extract lineages in text\n",
    "        [x.append(i) for x in record] # attach article id to lineage record\n",
    "        #full_regrex.append(pd.DataFrame(record))\n",
    "    except urllib.error.HTTPError as exc:\n",
    "        time.sleep(10) # wait 10 seconds and then make http request again\n",
    "        #continue\n",
    "        \n",
    "    df_fulltext = pd.DataFrame(record)\n",
    "    df_fulltext.columns = ['lineage', 'string', 'ID']\n",
    "    return df_fulltext"
   ]
  },
  {
   "cell_type": "code",
   "execution_count": 2,
   "metadata": {},
   "outputs": [],
   "source": [
    "# looping over ids\n",
    "def extract_full_parallel2(ids):\n",
    "    #ids = dic['ids']\n",
    "    full_regrex = []\n",
    "    \"\"\"\n",
    "    if not ids:  \n",
    "        return None\n",
    "    \"\"\"\n",
    "    for i in ids:\n",
    "        try:\n",
    "            body_text = download_article(i) # get body text\n",
    "            record = get_full_lineage(body_text) # extract lineages in text\n",
    "            [x.append(i) for x in record] # attach article id to lineage record\n",
    "            full_regrex.append(pd.DataFrame(record))\n",
    "        except urllib.error.HTTPError as exc:\n",
    "            time.sleep(10) # wait 10 seconds and then make http request again\n",
    "            continue\n",
    "    df_fulltext = pd.concat(full_regrex)\n",
    "    df_fulltext.columns = ['lineage', 'string', 'ID']\n",
    "    return df_fulltext"
   ]
  },
  {
   "cell_type": "code",
   "execution_count": null,
   "metadata": {},
   "outputs": [],
   "source": [
    "### BAG"
   ]
  },
  {
   "cell_type": "code",
   "execution_count": 284,
   "metadata": {},
   "outputs": [],
   "source": [
    "def query(lineage):\n",
    "    # get articles ids for specific lineage:\n",
    "    url = requests.get(f'https://www.ebi.ac.uk/europepmc/webservices/rest/search?query=(%22{lineage}%22%20AND%20(%22SARS-CoV-2%22%20OR%20%22COVID-19%22)%20AND%20(%22lineage%22%20OR%20%22lineages%22%20OR%20%22strain%22%20OR%20%22strains%22%20OR%20%22variants%22%20OR%20%22variants%22))%20AND%20(FIRST_PDATE:%5b2020-01-01%20)%20AND%20HAS_FT:y%20AND%20%20sort_date:y&resultType=idlist&pageSize=1000&format=json&cursorMark=*')\n",
    "    text = url.text\n",
    "    print(text[:10])\n",
    "    results = json.loads(text)['resultList']['result']\n",
    "    ids = list(map(lambda x: x['fullTextIdList']['fullTextId'][0], results))\n",
    "    return {'lineage': lineage, 'ids': ids}"
   ]
  },
  {
   "cell_type": "code",
   "execution_count": 287,
   "metadata": {},
   "outputs": [
    {
     "data": {
      "text/plain": [
       "array(['A.2.5.2'], dtype=object)"
      ]
     },
     "execution_count": 287,
     "metadata": {},
     "output_type": "execute_result"
    }
   ],
   "source": [
    "lineages[7:8]"
   ]
  },
  {
   "cell_type": "code",
   "execution_count": 289,
   "metadata": {},
   "outputs": [],
   "source": [
    "## try if work on lineage A.1 & A2.5.2"
   ]
  },
  {
   "cell_type": "code",
   "execution_count": 451,
   "metadata": {},
   "outputs": [],
   "source": [
    "def parallel_iter(l_): \n",
    "    \n",
    "    #for l_ in lineage: This is redundant in mapping\n",
    "     \n",
    "    start = time.time()\n",
    "    print(f'start {l_}')\n",
    "    #get ids\n",
    "    b = db.from_sequence([l_])\n",
    "    result = b.map(lambda record: get_ids(record))\n",
    "    \n",
    "\n",
    "    try:\n",
    "        # if lineage processed before, run on new ids\n",
    "        path = Path(f'{l_}_df.csv')\n",
    "        if path.is_file():\n",
    "            df = pd.read_csv(path)\n",
    "            ids = result.take(1)[0]\n",
    "            id_ran = set(df.ID)\n",
    "            if id_ran != set(ids): \n",
    "                dds = result.filter(lambda x: x not in id_ran).map(lambda i: extract_full_parallel2(i))\n",
    "                df_new = dds.take(1)[0]\n",
    "                ddf = pd.concat([df, df_new], axis = 0)\n",
    "            else: return # if no updates do nothing\n",
    "\n",
    "        else: # otherwise run on all ids\n",
    "            dds = result.map(lambda i: extract_full_parallel2(i)) \n",
    "            ddf = dds.take(1)[0]\n",
    "\n",
    "        ddf.to_csv(f'{l_}_df.csv',index=False, \\\n",
    "                                    header = ['lineage', 'string', 'ID'])\n",
    "        end = time.time()\n",
    "        print(f'done with {l_}, time duration --- seconds --- {end - start} \\n')\n",
    "    except:\n",
    "        dds = result.map(lambda i: extract_full_parallel2(i))\n",
    "        ddf = dds.take(1)[0]\n",
    "        ddf.to_csv(f'{l_}_df.csv',index=False, \\\n",
    "                                    header = ['lineage', 'string', 'ID'])\n",
    "        end = time.time()\n",
    "        print(f'done with {l_}, time duration --- seconds --- {end - start} \\n')\n",
    "        \n"
   ]
  },
  {
   "cell_type": "code",
   "execution_count": 460,
   "metadata": {},
   "outputs": [
    {
     "name": "stdout",
     "output_type": "stream",
     "text": [
      "Total time: 2.6870317459106445\n"
     ]
    }
   ],
   "source": [
    "# break down iter code for debugging\n",
    "l_ = 'A.2.5.2'\n",
    "start = time.time()\n",
    "b = db.from_sequence([l_])\n",
    "path = Path(f'{l_}_df.csv')\n",
    "if path.is_file():\n",
    "    df = pd.read_csv(path)\n",
    "    ids = result.take(1)[0]\n",
    "    id_ran = set(df.ID)\n",
    "    if id_ran != set(ids): \n",
    "        dds = result.filter(lambda x: x not in id_ran).map(lambda i: extract_full_parallel2(i))\n",
    "        df_new = dds.take(1)[0]\n",
    "        ddf = pd.concat([df, df_new], axis = 0)\n",
    "end = time.time()\n",
    "print('Total time:', end-start)"
   ]
  },
  {
   "cell_type": "code",
   "execution_count": 481,
   "metadata": {},
   "outputs": [
    {
     "name": "stdout",
     "output_type": "stream",
     "text": [
      "start A.2.5.3\n"
     ]
    }
   ],
   "source": [
    "start = time.time()\n",
    "#b = db.from_sequence(lineages[8:9])\n",
    "parallel_iter('A.2.5.3')\n",
    "end = time.time()"
   ]
  },
  {
   "cell_type": "code",
   "execution_count": 462,
   "metadata": {},
   "outputs": [
    {
     "data": {
      "text/plain": [
       "3.3915951251983643"
      ]
     },
     "execution_count": 462,
     "metadata": {},
     "output_type": "execute_result"
    }
   ],
   "source": [
    "end - start"
   ]
  },
  {
   "cell_type": "code",
   "execution_count": 463,
   "metadata": {},
   "outputs": [
    {
     "name": "stdout",
     "output_type": "stream",
     "text": [
      "start A.2.5.1\n",
      "{\"ver\n",
      "done with A.2.5.1, time duration --- seconds --- 1.402590036392212 \n",
      "\n",
      "start A.2.5.2\n",
      "{\"ver\n",
      "done with A.2.5.2, time duration --- seconds --- 1.1155860424041748 \n",
      "\n",
      "start A.2.5.3\n",
      "{\"ver\n",
      "done with A.2.5.3, time duration --- seconds --- 0.6666321754455566 \n",
      "\n"
     ]
    }
   ],
   "source": [
    "start = time.time()\n",
    "for i in l_10[6:9]:\n",
    "    iter_lineage(i)\n",
    "end = time.time()"
   ]
  },
  {
   "cell_type": "code",
   "execution_count": 464,
   "metadata": {},
   "outputs": [
    {
     "data": {
      "text/plain": [
       "3.186002254486084"
      ]
     },
     "execution_count": 464,
     "metadata": {},
     "output_type": "execute_result"
    }
   ],
   "source": [
    "end-start"
   ]
  },
  {
   "cell_type": "code",
   "execution_count": 378,
   "metadata": {},
   "outputs": [
    {
     "name": "stdout",
     "output_type": "stream",
     "text": [
      "['A.2.5.2']\n",
      "get id\n",
      "(['PMC9145602', 'PMC9088647', 'PMC8525575'],)\n",
      "[       lineage                                             string          ID\n",
      "0          P.1  The most common genotype was 417variant/484K/5...  PMC9145602\n",
      "1          P.2  No mutations (K417 only) were found in 64/198 ...  PMC9145602\n",
      "2      B.1.1.7  Seven samples (3.5%) tested positive for 452R ...  PMC9145602\n",
      "3    B.1.617.2  Patient consent was waived under approval of I...  PMC9145602\n",
      "4         C.37  Patient consent was waived under approval of I...  PMC9145602\n",
      "5    B.1.617.1  Patient consent was waived under approval of I...  PMC9145602\n",
      "6      B.1.351  The most common genotype identified was 417var...  PMC9145602\n",
      "7        P.1.2  Samples bearing genotype 417variant/484K/501Y ...  PMC9145602\n",
      "8      B.1.499  The genotype of only K417 was found in samples...  PMC9145602\n",
      "9    B.1.1.277  The genotype of only K417 was found in samples...  PMC9145602\n",
      "10    B.1.1.33  The genotype of only K417 was found in samples...  PMC9145602\n",
      "11    B.1.1.28  The genotype of only K417 was found in samples...  PMC9145602\n",
      "12     A.2.5.2  A lineage from 2020 that was still circulating...  PMC9145602\n",
      "13   B.1.1.529  While this mutation is distinct from T478K fou...  PMC9145602\n",
      "0      B.1.1.7  This strain clade 201/501Y.V1, Pango lineage B...  PMC9088647\n",
      "1      B.1.351  26\\n There are three mutations of significant ...  PMC9088647\n",
      "2          P.1  56\\n Safety and immunogenicity study of a SARS...  PMC9088647\n",
      "3          P.2  Gamma variant is particularly found from the o...  PMC9088647\n",
      "4      B.1.429  These resembling variants, B.1.427 and B.1.429...  PMC9088647\n",
      "5      B.1.427  These resembling variants, B.1.427 and B.1.429...  PMC9088647\n",
      "6      B.1.617  B.1.617.2 (Delta variant) is a variant of line...  PMC9088647\n",
      "7    B.1.617.1  83\\n The B.1.617.1 strain is 6.8‐fold more res...  PMC9088647\n",
      "8        C.1.2  92\\n Researchers discovered that this new C.1....  PMC9088647\n",
      "9    B.1.1.529  K417N, N440K, G446S, S477N, T478K, E484A, Q493...  PMC9088647\n",
      "0      B.1.427  The massive emergence of L452R variants was fi...  PMC8525575\n",
      "1      B.1.232  By PCR amplification and Sanger sequencing of ...  PMC8525575\n",
      "2     B.1.1.28  Because of the important functional and antige...  PMC8525575\n",
      "3      B.1.351  Because of the important functional and antige...  PMC8525575\n",
      "4      B.1.1.7  Because of the important functional and antige...  PMC8525575\n",
      "5         C.16  A.2.5, A.2.5.1, A.2.5.2, A.21, A.27, B.1.1.263...  PMC8525575\n",
      "6         A.27  A.2.5, A.2.5.1, A.2.5.2, A.21, A.27, B.1.1.263...  PMC8525575\n",
      "7       C.36.1  A.2.5, A.2.5.1, A.2.5.2, A.21, A.27, B.1.1.263...  PMC8525575\n",
      "8    B.1.1.263  A.2.5, A.2.5.1, A.2.5.2, A.21, A.27, B.1.1.263...  PMC8525575\n",
      "9      A.2.5.2  A.2.5, A.2.5.1, A.2.5.2, A.21, A.27, B.1.1.263...  PMC8525575\n",
      "10         P.4  A.2.5, A.2.5.1, A.2.5.2, A.21, A.27, B.1.1.263...  PMC8525575\n",
      "11   B.1.526.1  A.2.5, A.2.5.1, A.2.5.2, A.21, A.27, B.1.1.263...  PMC8525575\n",
      "12   B.1.617.1  A.2.5, A.2.5.1, A.2.5.2, A.21, A.27, B.1.1.263...  PMC8525575\n",
      "13      C.36.3  A.2.5, A.2.5.1, A.2.5.2, A.21, A.27, B.1.1.263...  PMC8525575\n",
      "14        A.21  A.2.5, A.2.5.1, A.2.5.2, A.21, A.27, B.1.1.263...  PMC8525575\n",
      "15   B.1.617.2  A.2.5, A.2.5.1, A.2.5.2, A.21, A.27, B.1.1.263...  PMC8525575\n",
      "16        C.37  A.2.5, A.2.5.1, A.2.5.2, A.21, A.27, B.1.1.263...  PMC8525575\n",
      "17   B.1.617.3  A.2.5, A.2.5.1, A.2.5.2, A.21, A.27, B.1.1.263...  PMC8525575\n",
      "18   B.1.1.459  A.2.5, A.2.5.1, A.2.5.2, A.21, A.27, B.1.1.263...  PMC8525575\n",
      "19     B.1.429  A.2.5, A.2.5.1, A.2.5.2, A.21, A.27, B.1.1.263...  PMC8525575\n",
      "20     B.1.466  A.2.5, A.2.5.1, A.2.5.2, A.21, A.27, B.1.1.263...  PMC8525575\n",
      "21      B.1.36  A.2.5, A.2.5.1, A.2.5.2, A.21, A.27, B.1.1.263...  PMC8525575\n",
      "22  B.1.177.83  A.2.5, A.2.5.1, A.2.5.2, A.21, A.27, B.1.1.263...  PMC8525575\n",
      "23     A.2.5.1  A.2.5, A.2.5.1, A.2.5.2, A.21, A.27, B.1.1.263...  PMC8525575]\n",
      "Total time: 10.990783929824829\n"
     ]
    }
   ],
   "source": [
    "b = db.from_sequence(lineages[7:8])\n",
    "print(lineages[7:8])\n",
    "start = time.time()\n",
    "result = b.map(lambda record: get_ids(record))\n",
    "print('get id')\n",
    "print(result.take(1))\n",
    "dds = result.map(lambda x: extract_full_parallel2(x))\n",
    "print(dds.compute())\n",
    "end = time.time()\n",
    "print('Total time:', end-start)"
   ]
  },
  {
   "cell_type": "code",
   "execution_count": 336,
   "metadata": {},
   "outputs": [
    {
     "name": "stdout",
     "output_type": "stream",
     "text": [
      "['A.2.5.2']\n",
      "get id\n",
      "10.318028926849365\n"
     ]
    }
   ],
   "source": [
    "b = db.from_sequence([lineages[7:8]])\n",
    "print(lineages[7:8])\n",
    "start = time.time()\n",
    "result = b.map(lambda record: query(record))\n",
    "print('get id')\n",
    "ddf = result.map(lambda x: extract_full_parallel(x))\n",
    "ddf.compute()\n",
    "end = time.time()\n",
    "print(end - start)"
   ]
  },
  {
   "cell_type": "code",
   "execution_count": 298,
   "metadata": {},
   "outputs": [
    {
     "data": {
      "text/html": [
       "<div>\n",
       "<style scoped>\n",
       "    .dataframe tbody tr th:only-of-type {\n",
       "        vertical-align: middle;\n",
       "    }\n",
       "\n",
       "    .dataframe tbody tr th {\n",
       "        vertical-align: top;\n",
       "    }\n",
       "\n",
       "    .dataframe thead th {\n",
       "        text-align: right;\n",
       "    }\n",
       "</style>\n",
       "<table border=\"1\" class=\"dataframe\">\n",
       "  <thead>\n",
       "    <tr style=\"text-align: right;\">\n",
       "      <th></th>\n",
       "      <th>lineage</th>\n",
       "      <th>string</th>\n",
       "      <th>ID</th>\n",
       "    </tr>\n",
       "  </thead>\n",
       "  <tbody>\n",
       "    <tr>\n",
       "      <th>0</th>\n",
       "      <td>P.1</td>\n",
       "      <td>The most common genotype was 417variant/484K/5...</td>\n",
       "      <td>PMC9145602</td>\n",
       "    </tr>\n",
       "    <tr>\n",
       "      <th>1</th>\n",
       "      <td>P.2</td>\n",
       "      <td>No mutations (K417 only) were found in 64/198 ...</td>\n",
       "      <td>PMC9145602</td>\n",
       "    </tr>\n",
       "    <tr>\n",
       "      <th>2</th>\n",
       "      <td>B.1.1.7</td>\n",
       "      <td>Seven samples (3.5%) tested positive for 452R ...</td>\n",
       "      <td>PMC9145602</td>\n",
       "    </tr>\n",
       "    <tr>\n",
       "      <th>3</th>\n",
       "      <td>B.1.617.2</td>\n",
       "      <td>Patient consent was waived under approval of I...</td>\n",
       "      <td>PMC9145602</td>\n",
       "    </tr>\n",
       "    <tr>\n",
       "      <th>4</th>\n",
       "      <td>C.37</td>\n",
       "      <td>Patient consent was waived under approval of I...</td>\n",
       "      <td>PMC9145602</td>\n",
       "    </tr>\n",
       "    <tr>\n",
       "      <th>5</th>\n",
       "      <td>B.1.617.1</td>\n",
       "      <td>Patient consent was waived under approval of I...</td>\n",
       "      <td>PMC9145602</td>\n",
       "    </tr>\n",
       "    <tr>\n",
       "      <th>6</th>\n",
       "      <td>B.1.351</td>\n",
       "      <td>The most common genotype identified was 417var...</td>\n",
       "      <td>PMC9145602</td>\n",
       "    </tr>\n",
       "    <tr>\n",
       "      <th>7</th>\n",
       "      <td>P.1.2</td>\n",
       "      <td>Samples bearing genotype 417variant/484K/501Y ...</td>\n",
       "      <td>PMC9145602</td>\n",
       "    </tr>\n",
       "    <tr>\n",
       "      <th>8</th>\n",
       "      <td>B.1.499</td>\n",
       "      <td>The genotype of only K417 was found in samples...</td>\n",
       "      <td>PMC9145602</td>\n",
       "    </tr>\n",
       "    <tr>\n",
       "      <th>9</th>\n",
       "      <td>B.1.1.277</td>\n",
       "      <td>The genotype of only K417 was found in samples...</td>\n",
       "      <td>PMC9145602</td>\n",
       "    </tr>\n",
       "    <tr>\n",
       "      <th>10</th>\n",
       "      <td>B.1.1.33</td>\n",
       "      <td>The genotype of only K417 was found in samples...</td>\n",
       "      <td>PMC9145602</td>\n",
       "    </tr>\n",
       "    <tr>\n",
       "      <th>11</th>\n",
       "      <td>B.1.1.28</td>\n",
       "      <td>The genotype of only K417 was found in samples...</td>\n",
       "      <td>PMC9145602</td>\n",
       "    </tr>\n",
       "    <tr>\n",
       "      <th>12</th>\n",
       "      <td>A.2.5.2</td>\n",
       "      <td>A lineage from 2020 that was still circulating...</td>\n",
       "      <td>PMC9145602</td>\n",
       "    </tr>\n",
       "    <tr>\n",
       "      <th>13</th>\n",
       "      <td>B.1.1.529</td>\n",
       "      <td>While this mutation is distinct from T478K fou...</td>\n",
       "      <td>PMC9145602</td>\n",
       "    </tr>\n",
       "    <tr>\n",
       "      <th>0</th>\n",
       "      <td>B.1.1.7</td>\n",
       "      <td>This strain clade 201/501Y.V1, Pango lineage B...</td>\n",
       "      <td>PMC9088647</td>\n",
       "    </tr>\n",
       "    <tr>\n",
       "      <th>1</th>\n",
       "      <td>B.1.351</td>\n",
       "      <td>26\\n There are three mutations of significant ...</td>\n",
       "      <td>PMC9088647</td>\n",
       "    </tr>\n",
       "    <tr>\n",
       "      <th>2</th>\n",
       "      <td>P.1</td>\n",
       "      <td>56\\n Safety and immunogenicity study of a SARS...</td>\n",
       "      <td>PMC9088647</td>\n",
       "    </tr>\n",
       "    <tr>\n",
       "      <th>3</th>\n",
       "      <td>P.2</td>\n",
       "      <td>Gamma variant is particularly found from the o...</td>\n",
       "      <td>PMC9088647</td>\n",
       "    </tr>\n",
       "    <tr>\n",
       "      <th>4</th>\n",
       "      <td>B.1.429</td>\n",
       "      <td>These resembling variants, B.1.427 and B.1.429...</td>\n",
       "      <td>PMC9088647</td>\n",
       "    </tr>\n",
       "    <tr>\n",
       "      <th>5</th>\n",
       "      <td>B.1.427</td>\n",
       "      <td>These resembling variants, B.1.427 and B.1.429...</td>\n",
       "      <td>PMC9088647</td>\n",
       "    </tr>\n",
       "    <tr>\n",
       "      <th>6</th>\n",
       "      <td>B.1.617</td>\n",
       "      <td>B.1.617.2 (Delta variant) is a variant of line...</td>\n",
       "      <td>PMC9088647</td>\n",
       "    </tr>\n",
       "    <tr>\n",
       "      <th>7</th>\n",
       "      <td>B.1.617.1</td>\n",
       "      <td>83\\n The B.1.617.1 strain is 6.8‐fold more res...</td>\n",
       "      <td>PMC9088647</td>\n",
       "    </tr>\n",
       "    <tr>\n",
       "      <th>8</th>\n",
       "      <td>C.1.2</td>\n",
       "      <td>92\\n Researchers discovered that this new C.1....</td>\n",
       "      <td>PMC9088647</td>\n",
       "    </tr>\n",
       "    <tr>\n",
       "      <th>9</th>\n",
       "      <td>B.1.1.529</td>\n",
       "      <td>K417N, N440K, G446S, S477N, T478K, E484A, Q493...</td>\n",
       "      <td>PMC9088647</td>\n",
       "    </tr>\n",
       "    <tr>\n",
       "      <th>0</th>\n",
       "      <td>B.1.427</td>\n",
       "      <td>The massive emergence of L452R variants was fi...</td>\n",
       "      <td>PMC8525575</td>\n",
       "    </tr>\n",
       "    <tr>\n",
       "      <th>1</th>\n",
       "      <td>B.1.232</td>\n",
       "      <td>By PCR amplification and Sanger sequencing of ...</td>\n",
       "      <td>PMC8525575</td>\n",
       "    </tr>\n",
       "    <tr>\n",
       "      <th>2</th>\n",
       "      <td>B.1.1.28</td>\n",
       "      <td>Because of the important functional and antige...</td>\n",
       "      <td>PMC8525575</td>\n",
       "    </tr>\n",
       "    <tr>\n",
       "      <th>3</th>\n",
       "      <td>B.1.351</td>\n",
       "      <td>Because of the important functional and antige...</td>\n",
       "      <td>PMC8525575</td>\n",
       "    </tr>\n",
       "    <tr>\n",
       "      <th>4</th>\n",
       "      <td>B.1.1.7</td>\n",
       "      <td>Because of the important functional and antige...</td>\n",
       "      <td>PMC8525575</td>\n",
       "    </tr>\n",
       "    <tr>\n",
       "      <th>5</th>\n",
       "      <td>C.16</td>\n",
       "      <td>A.2.5, A.2.5.1, A.2.5.2, A.21, A.27, B.1.1.263...</td>\n",
       "      <td>PMC8525575</td>\n",
       "    </tr>\n",
       "    <tr>\n",
       "      <th>6</th>\n",
       "      <td>A.27</td>\n",
       "      <td>A.2.5, A.2.5.1, A.2.5.2, A.21, A.27, B.1.1.263...</td>\n",
       "      <td>PMC8525575</td>\n",
       "    </tr>\n",
       "    <tr>\n",
       "      <th>7</th>\n",
       "      <td>C.36.1</td>\n",
       "      <td>A.2.5, A.2.5.1, A.2.5.2, A.21, A.27, B.1.1.263...</td>\n",
       "      <td>PMC8525575</td>\n",
       "    </tr>\n",
       "    <tr>\n",
       "      <th>8</th>\n",
       "      <td>B.1.1.263</td>\n",
       "      <td>A.2.5, A.2.5.1, A.2.5.2, A.21, A.27, B.1.1.263...</td>\n",
       "      <td>PMC8525575</td>\n",
       "    </tr>\n",
       "    <tr>\n",
       "      <th>9</th>\n",
       "      <td>A.2.5.2</td>\n",
       "      <td>A.2.5, A.2.5.1, A.2.5.2, A.21, A.27, B.1.1.263...</td>\n",
       "      <td>PMC8525575</td>\n",
       "    </tr>\n",
       "    <tr>\n",
       "      <th>10</th>\n",
       "      <td>P.4</td>\n",
       "      <td>A.2.5, A.2.5.1, A.2.5.2, A.21, A.27, B.1.1.263...</td>\n",
       "      <td>PMC8525575</td>\n",
       "    </tr>\n",
       "    <tr>\n",
       "      <th>11</th>\n",
       "      <td>B.1.526.1</td>\n",
       "      <td>A.2.5, A.2.5.1, A.2.5.2, A.21, A.27, B.1.1.263...</td>\n",
       "      <td>PMC8525575</td>\n",
       "    </tr>\n",
       "    <tr>\n",
       "      <th>12</th>\n",
       "      <td>B.1.617.1</td>\n",
       "      <td>A.2.5, A.2.5.1, A.2.5.2, A.21, A.27, B.1.1.263...</td>\n",
       "      <td>PMC8525575</td>\n",
       "    </tr>\n",
       "    <tr>\n",
       "      <th>13</th>\n",
       "      <td>C.36.3</td>\n",
       "      <td>A.2.5, A.2.5.1, A.2.5.2, A.21, A.27, B.1.1.263...</td>\n",
       "      <td>PMC8525575</td>\n",
       "    </tr>\n",
       "    <tr>\n",
       "      <th>14</th>\n",
       "      <td>A.21</td>\n",
       "      <td>A.2.5, A.2.5.1, A.2.5.2, A.21, A.27, B.1.1.263...</td>\n",
       "      <td>PMC8525575</td>\n",
       "    </tr>\n",
       "    <tr>\n",
       "      <th>15</th>\n",
       "      <td>B.1.617.2</td>\n",
       "      <td>A.2.5, A.2.5.1, A.2.5.2, A.21, A.27, B.1.1.263...</td>\n",
       "      <td>PMC8525575</td>\n",
       "    </tr>\n",
       "    <tr>\n",
       "      <th>16</th>\n",
       "      <td>C.37</td>\n",
       "      <td>A.2.5, A.2.5.1, A.2.5.2, A.21, A.27, B.1.1.263...</td>\n",
       "      <td>PMC8525575</td>\n",
       "    </tr>\n",
       "    <tr>\n",
       "      <th>17</th>\n",
       "      <td>B.1.617.3</td>\n",
       "      <td>A.2.5, A.2.5.1, A.2.5.2, A.21, A.27, B.1.1.263...</td>\n",
       "      <td>PMC8525575</td>\n",
       "    </tr>\n",
       "    <tr>\n",
       "      <th>18</th>\n",
       "      <td>B.1.1.459</td>\n",
       "      <td>A.2.5, A.2.5.1, A.2.5.2, A.21, A.27, B.1.1.263...</td>\n",
       "      <td>PMC8525575</td>\n",
       "    </tr>\n",
       "    <tr>\n",
       "      <th>19</th>\n",
       "      <td>B.1.429</td>\n",
       "      <td>A.2.5, A.2.5.1, A.2.5.2, A.21, A.27, B.1.1.263...</td>\n",
       "      <td>PMC8525575</td>\n",
       "    </tr>\n",
       "    <tr>\n",
       "      <th>20</th>\n",
       "      <td>B.1.466</td>\n",
       "      <td>A.2.5, A.2.5.1, A.2.5.2, A.21, A.27, B.1.1.263...</td>\n",
       "      <td>PMC8525575</td>\n",
       "    </tr>\n",
       "    <tr>\n",
       "      <th>21</th>\n",
       "      <td>B.1.36</td>\n",
       "      <td>A.2.5, A.2.5.1, A.2.5.2, A.21, A.27, B.1.1.263...</td>\n",
       "      <td>PMC8525575</td>\n",
       "    </tr>\n",
       "    <tr>\n",
       "      <th>22</th>\n",
       "      <td>B.1.177.83</td>\n",
       "      <td>A.2.5, A.2.5.1, A.2.5.2, A.21, A.27, B.1.1.263...</td>\n",
       "      <td>PMC8525575</td>\n",
       "    </tr>\n",
       "    <tr>\n",
       "      <th>23</th>\n",
       "      <td>A.2.5.1</td>\n",
       "      <td>A.2.5, A.2.5.1, A.2.5.2, A.21, A.27, B.1.1.263...</td>\n",
       "      <td>PMC8525575</td>\n",
       "    </tr>\n",
       "  </tbody>\n",
       "</table>\n",
       "</div>"
      ],
      "text/plain": [
       "       lineage                                             string          ID\n",
       "0          P.1  The most common genotype was 417variant/484K/5...  PMC9145602\n",
       "1          P.2  No mutations (K417 only) were found in 64/198 ...  PMC9145602\n",
       "2      B.1.1.7  Seven samples (3.5%) tested positive for 452R ...  PMC9145602\n",
       "3    B.1.617.2  Patient consent was waived under approval of I...  PMC9145602\n",
       "4         C.37  Patient consent was waived under approval of I...  PMC9145602\n",
       "5    B.1.617.1  Patient consent was waived under approval of I...  PMC9145602\n",
       "6      B.1.351  The most common genotype identified was 417var...  PMC9145602\n",
       "7        P.1.2  Samples bearing genotype 417variant/484K/501Y ...  PMC9145602\n",
       "8      B.1.499  The genotype of only K417 was found in samples...  PMC9145602\n",
       "9    B.1.1.277  The genotype of only K417 was found in samples...  PMC9145602\n",
       "10    B.1.1.33  The genotype of only K417 was found in samples...  PMC9145602\n",
       "11    B.1.1.28  The genotype of only K417 was found in samples...  PMC9145602\n",
       "12     A.2.5.2  A lineage from 2020 that was still circulating...  PMC9145602\n",
       "13   B.1.1.529  While this mutation is distinct from T478K fou...  PMC9145602\n",
       "0      B.1.1.7  This strain clade 201/501Y.V1, Pango lineage B...  PMC9088647\n",
       "1      B.1.351  26\\n There are three mutations of significant ...  PMC9088647\n",
       "2          P.1  56\\n Safety and immunogenicity study of a SARS...  PMC9088647\n",
       "3          P.2  Gamma variant is particularly found from the o...  PMC9088647\n",
       "4      B.1.429  These resembling variants, B.1.427 and B.1.429...  PMC9088647\n",
       "5      B.1.427  These resembling variants, B.1.427 and B.1.429...  PMC9088647\n",
       "6      B.1.617  B.1.617.2 (Delta variant) is a variant of line...  PMC9088647\n",
       "7    B.1.617.1  83\\n The B.1.617.1 strain is 6.8‐fold more res...  PMC9088647\n",
       "8        C.1.2  92\\n Researchers discovered that this new C.1....  PMC9088647\n",
       "9    B.1.1.529  K417N, N440K, G446S, S477N, T478K, E484A, Q493...  PMC9088647\n",
       "0      B.1.427  The massive emergence of L452R variants was fi...  PMC8525575\n",
       "1      B.1.232  By PCR amplification and Sanger sequencing of ...  PMC8525575\n",
       "2     B.1.1.28  Because of the important functional and antige...  PMC8525575\n",
       "3      B.1.351  Because of the important functional and antige...  PMC8525575\n",
       "4      B.1.1.7  Because of the important functional and antige...  PMC8525575\n",
       "5         C.16  A.2.5, A.2.5.1, A.2.5.2, A.21, A.27, B.1.1.263...  PMC8525575\n",
       "6         A.27  A.2.5, A.2.5.1, A.2.5.2, A.21, A.27, B.1.1.263...  PMC8525575\n",
       "7       C.36.1  A.2.5, A.2.5.1, A.2.5.2, A.21, A.27, B.1.1.263...  PMC8525575\n",
       "8    B.1.1.263  A.2.5, A.2.5.1, A.2.5.2, A.21, A.27, B.1.1.263...  PMC8525575\n",
       "9      A.2.5.2  A.2.5, A.2.5.1, A.2.5.2, A.21, A.27, B.1.1.263...  PMC8525575\n",
       "10         P.4  A.2.5, A.2.5.1, A.2.5.2, A.21, A.27, B.1.1.263...  PMC8525575\n",
       "11   B.1.526.1  A.2.5, A.2.5.1, A.2.5.2, A.21, A.27, B.1.1.263...  PMC8525575\n",
       "12   B.1.617.1  A.2.5, A.2.5.1, A.2.5.2, A.21, A.27, B.1.1.263...  PMC8525575\n",
       "13      C.36.3  A.2.5, A.2.5.1, A.2.5.2, A.21, A.27, B.1.1.263...  PMC8525575\n",
       "14        A.21  A.2.5, A.2.5.1, A.2.5.2, A.21, A.27, B.1.1.263...  PMC8525575\n",
       "15   B.1.617.2  A.2.5, A.2.5.1, A.2.5.2, A.21, A.27, B.1.1.263...  PMC8525575\n",
       "16        C.37  A.2.5, A.2.5.1, A.2.5.2, A.21, A.27, B.1.1.263...  PMC8525575\n",
       "17   B.1.617.3  A.2.5, A.2.5.1, A.2.5.2, A.21, A.27, B.1.1.263...  PMC8525575\n",
       "18   B.1.1.459  A.2.5, A.2.5.1, A.2.5.2, A.21, A.27, B.1.1.263...  PMC8525575\n",
       "19     B.1.429  A.2.5, A.2.5.1, A.2.5.2, A.21, A.27, B.1.1.263...  PMC8525575\n",
       "20     B.1.466  A.2.5, A.2.5.1, A.2.5.2, A.21, A.27, B.1.1.263...  PMC8525575\n",
       "21      B.1.36  A.2.5, A.2.5.1, A.2.5.2, A.21, A.27, B.1.1.263...  PMC8525575\n",
       "22  B.1.177.83  A.2.5, A.2.5.1, A.2.5.2, A.21, A.27, B.1.1.263...  PMC8525575\n",
       "23     A.2.5.1  A.2.5, A.2.5.1, A.2.5.2, A.21, A.27, B.1.1.263...  PMC8525575"
      ]
     },
     "execution_count": 298,
     "metadata": {},
     "output_type": "execute_result"
    }
   ],
   "source": [
    "# get dataframe\n",
    "ddf.take(1)[0]"
   ]
  },
  {
   "cell_type": "code",
   "execution_count": 21,
   "metadata": {},
   "outputs": [],
   "source": [
    "# download articles in XML and return body paragraph\n",
    "def process(article_id):\n",
    "    url = f'https://www.ebi.ac.uk/europepmc/webservices/rest/{article_id}/fullTextXML'\n",
    "    xmldoc = parse(urlopen(url))\n",
    "    \n",
    "    # get full text\n",
    "    root = xmldoc.getroot()\n",
    "    text = root.findall('.//p')\n",
    "\n",
    "    # put body paragraphs together\n",
    "    ptext = \"\"\n",
    "    for p in text:\n",
    "        ptext += ''.join([x for x in p.itertext()]) + '.\\n' + '\\n'\n",
    "    \n",
    "    # tokenize texts into sentences\n",
    "    p_sentence = nltk.tokenize.sent_tokenize(ptext)\n",
    "    \n",
    "    # record lineages\n",
    "    linset = set()\n",
    "    pair = []\n",
    "    for s in p_sentence:\n",
    "        s1 = re.subn('[()/,]', ' ', s)[0] # remove special chars\n",
    "        lin = set(pattern1.findall(s1) + pattern2.findall(s1) + pattern3.findall(s1) + pattern4.findall(s1))\n",
    "\n",
    "        if lin: \n",
    "            for l in lin:\n",
    "                # valid lineage and not recorded\n",
    "                l = l.strip()\n",
    "                l = l.capitalize()\n",
    "                if (l in lineages) and (l not in linset): \n",
    "                    linset.add(l)\n",
    "                    pair.append([l, s])\n",
    "                else: continue\n",
    "    \n",
    "    "
   ]
  },
  {
   "cell_type": "code",
   "execution_count": 22,
   "metadata": {},
   "outputs": [],
   "source": [
    "# get lineage for full texts\n",
    "def get_full_lineage(ptext):\n",
    "    # tokenize texts into sentences\n",
    "    p_sentence = nltk.tokenize.sent_tokenize(ptext)\n",
    "    \n",
    "    # record lineages\n",
    "    linset = set()\n",
    "    pair = []\n",
    "    for s in p_sentence:\n",
    "        s1 = re.subn('[()/,]', ' ', s)[0] # remove special chars\n",
    "        lin = set(pattern1.findall(s1) + pattern2.findall(s1) + pattern3.findall(s1) + pattern4.findall(s1))\n",
    "\n",
    "        if lin: \n",
    "            for l in lin:\n",
    "                # valid lineage and not recorded\n",
    "                l = l.strip()\n",
    "                l = l.capitalize()\n",
    "                if (l in lineages) and (l not in linset): \n",
    "                    linset.add(l)\n",
    "                    pair.append([l, s])\n",
    "                else: continue\n",
    "    return pair\n",
    "    \n",
    "    \"\"\"\n",
    "    ptext = re.subn('[()/,]', ' ', ptext)[0] # remove special chars\n",
    "    lin = pattern1.findall(ptext) + pattern2.findall(ptext) + pattern3.findall(ptext)\n",
    "    lin_set = set(lin)\n",
    "    \n",
    "    record = []\n",
    "    if lin_set:\n",
    "        for l in lin_set:\n",
    "            \n",
    "            sen = re.search(r\"\\.?([^\\.]*{}[^\\.]*)\".format(l), ptext).group()\n",
    "            record.append([l, sen])\n",
    "    \"\"\"\n",
    "    "
   ]
  },
  {
   "cell_type": "code",
   "execution_count": 55,
   "metadata": {},
   "outputs": [],
   "source": [
    "# wrap up function take lineage ids as input and output dataframe\n",
    "def extract_full(ids):\n",
    "    full_regrex = []\n",
    "    \n",
    "    if not ids:  \n",
    "        return None\n",
    "    for i in ids:\n",
    "        try:\n",
    "            body_text = download_article(i) # get body text\n",
    "            record = get_full_lineage(body_text) # extract lineages in text\n",
    "            [x.append(i) for x in record] # attach article id to lineage record\n",
    "            full_regrex.append(pd.DataFrame(record))\n",
    "        except urllib.error.HTTPError as exc:\n",
    "            time.sleep(10) # wait 10 seconds and then make http request again\n",
    "            continue\n",
    "    df_fulltext = pd.concat(full_regrex)\n",
    "    df_fulltext.columns = ['lineage', 'string', 'ID']\n",
    "    return df_fulltext\n",
    "\n",
    "\n",
    "    "
   ]
  },
  {
   "cell_type": "code",
   "execution_count": 220,
   "metadata": {},
   "outputs": [
    {
     "data": {
      "text/plain": [
       "dask.bag<lambda, npartitions=4>"
      ]
     },
     "execution_count": 220,
     "metadata": {},
     "output_type": "execute_result"
    }
   ],
   "source": [
    "result.map(lambda x: "
   ]
  },
  {
   "cell_type": "code",
   "execution_count": null,
   "metadata": {},
   "outputs": [],
   "source": []
  }
 ],
 "metadata": {
  "kernelspec": {
   "display_name": "Python 3 (ipykernel)",
   "language": "python",
   "name": "python3"
  },
  "language_info": {
   "codemirror_mode": {
    "name": "ipython",
    "version": 3
   },
   "file_extension": ".py",
   "mimetype": "text/x-python",
   "name": "python",
   "nbconvert_exporter": "python",
   "pygments_lexer": "ipython3",
   "version": "3.7.12"
  }
 },
 "nbformat": 4,
 "nbformat_minor": 4
}
